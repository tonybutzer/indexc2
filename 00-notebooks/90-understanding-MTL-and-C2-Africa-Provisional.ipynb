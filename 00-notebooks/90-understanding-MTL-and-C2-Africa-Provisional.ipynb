{
 "cells": [
  {
   "cell_type": "markdown",
   "metadata": {},
   "source": [
    "# General Outline\n",
    "\n",
    "## Read an MTL\n",
    "\n",
    "## Create a Blob\n",
    "\n",
    "## Format the blob as a dataset \"doc\"\n",
    "\n",
    "## Reformat for Elastic\n",
    "\n",
    "## Send to elastic as part of a datalake or cube record\n",
    "\n",
    "# Code for all of this exists - although not always easy to find"
   ]
  },
  {
   "cell_type": "markdown",
   "metadata": {},
   "source": [
    "---\n",
    "---\n",
    "---\n",
    "\n",
    "# def s3_object_to_raw(bucket, object_prefix):"
   ]
  },
  {
   "cell_type": "code",
   "execution_count": 4,
   "metadata": {},
   "outputs": [],
   "source": [
    "import logging\n",
    "import boto3\n",
    "\n",
    "def s3_object_to_raw(bucket, object_prefix):\n",
    "    logging.info(\"getting raw %s %s\", bucket, object_prefix)\n",
    "    \n",
    "    s3 = boto3.resource(\"s3\")\n",
    "    bucket_name = bucket\n",
    "    path = object_prefix\n",
    "    logging.info(\"Processing %s\", path)\n",
    "    key = path\n",
    "    obj = s3.Object(bucket_name, key).get(ResponseCacheControl='no-cache')\n",
    "    raw = obj['Body'].read()\n",
    "    print(path)\n",
    "    return raw\n",
    "\n",
    "    \n",
    "    "
   ]
  },
  {
   "cell_type": "code",
   "execution_count": 5,
   "metadata": {},
   "outputs": [
    {
     "name": "stdout",
     "output_type": "stream",
     "text": [
      "usgs_ls8c_level2_2/157/070/2015/11/08/usgs_ls8c_level2_2-0-20190911_157070_2015-11-08.odc-metadata.yaml\n"
     ]
    },
    {
     "data": {
      "text/plain": [
       "b\"---\\n# Dataset\\n$schema: https://schemas.opendatacube.org/dataset\\nid: 3d5d8b9c-c284-56b5-9b5f-a7567962d392\\n\\nlabel: usgs_ls8c_level2_2-0-20190911_157070_2015-11-08\\nproduct:\\n  name: usgs_ls8c_level2_2\\n  href: https://collections.dea.ga.gov.au/product/usgs_ls8c_level2_2\\n\\ncrs: epsg:32639\\ngeometry:\\n  type: Polygon\\n  coordinates: [[[241785.0, -1481685.0], [241785.0, -1715415.0], [482415.0, -1715415.0],\\n      [482415.0, -1481685.0], [241785.0, -1481685.0]]]\\ngrids:\\n  default:\\n    shape: [7791, 8021]\\n    transform: [30.0, 0.0, 241785.0, 0.0, -30.0, -1481685.0, 0.0, 0.0, 1.0]\\n\\nproperties:\\n  datetime: 2015-11-08 06:38:57.875828Z\\n  eo:cloud_cover: 68.37\\n  eo:gsd: 30.0  # Ground sample distance (m)\\n  eo:instrument: OLI_TIRS\\n  eo:platform: landsat-8\\n  eo:sun_azimuth: 98.06121879\\n  eo:sun_elevation: 64.46336127\\n  landsat:collection_number: 2\\n  landsat:geometric_rmse_model_x: 4.688\\n  landsat:geometric_rmse_model_y: 6.009\\n  landsat:geometric_rmse_verify: 7.144\\n  landsat:ground_control_points_model: 513\\n  landsat:ground_control_points_verify: 147\\n  landsat:ground_control_points_version: 51\\n  landsat:landsat_product_id: LC08_L1TP_157070_20151108_20190911_02_T1\\n  landsat:landsat_scene_id: LC81570702015312LGN01\\n  landsat:processing_software_version: LPGS_Unknown\\n  landsat:station_id: LGN\\n  landsat:wrs_path: 157\\n  landsat:wrs_row: 70\\n  odc:dataset_version: 2.0.20190911\\n  odc:file_format: GeoTIFF\\n  odc:processing_datetime: 2019-09-11 20:39:46Z\\n  odc:producer: usgs.gov\\n  odc:product_family: level2\\n  odc:region_code: '157070'\\n\\nmeasurements:\\n  coastal_aerosol:\\n    path: usgs_ls8c_level2_2-0-20190911_157070_2015-11-08_sr-b1.tif\\n  blue:\\n    path: usgs_ls8c_level2_2-0-20190911_157070_2015-11-08_sr-b2.tif\\n  green:\\n    path: usgs_ls8c_level2_2-0-20190911_157070_2015-11-08_sr-b3.tif\\n  red:\\n    path: usgs_ls8c_level2_2-0-20190911_157070_2015-11-08_sr-b4.tif\\n  nir:\\n    path: usgs_ls8c_level2_2-0-20190911_157070_2015-11-08_sr-b5.tif\\n  swir_1:\\n    path: usgs_ls8c_level2_2-0-20190911_157070_2015-11-08_sr-b6.tif\\n  swir_2:\\n    path: usgs_ls8c_level2_2-0-20190911_157070_2015-11-08_sr-b7.tif\\n  surface_temperature:\\n    path: usgs_ls8c_level2_2-0-20190911_157070_2015-11-08_st-b10.tif\\n  thermal_radiance:\\n    path: usgs_ls8c_level2_2-0-20190911_157070_2015-11-08_thermal-radiance.tif\\n  upwell_radiance:\\n    path: usgs_ls8c_level2_2-0-20190911_157070_2015-11-08_upwell-radiance.tif\\n  downwell_radiance:\\n    path: usgs_ls8c_level2_2-0-20190911_157070_2015-11-08_downwell-radiance.tif\\n  atmospheric_transmittance:\\n    path: usgs_ls8c_level2_2-0-20190911_157070_2015-11-08_atmospheric-transmittance.tif\\n  emissivity:\\n    path: usgs_ls8c_level2_2-0-20190911_157070_2015-11-08_emissivity.tif\\n  emissivity_stdev:\\n    path: usgs_ls8c_level2_2-0-20190911_157070_2015-11-08_emissivity-stdev.tif\\n  cloud_distance:\\n    path: usgs_ls8c_level2_2-0-20190911_157070_2015-11-08_cloud-distance.tif\\n  quality_l2_aerosol:\\n    path: usgs_ls8c_level2_2-0-20190911_157070_2015-11-08_quality-l2-aerosol.tif\\n  quality_l2_surface_temperature:\\n    path: usgs_ls8c_level2_2-0-20190911_157070_2015-11-08_quality-l2-surface-temperature.tif\\n  quality_l1_pixel:\\n    path: usgs_ls8c_level2_2-0-20190911_157070_2015-11-08_quality-l1-pixel.tif\\n  quality_l1_radiometric_saturation:\\n    path: usgs_ls8c_level2_2-0-20190911_157070_2015-11-08_quality-l1-radiometric-saturation.tif\\n\\naccessories:\\n  metadata:landsat_mtl:\\n    path: LC08_L2SP_157070_20151108_20190911_02_T1_MTL.txt\\n  checksum:sha1:\\n    path: usgs_ls8c_level2_2-0-20190911_157070_2015-11-08.sha1\\n  metadata:processor:\\n    path: usgs_ls8c_level2_2-0-20190911_157070_2015-11-08.proc-info.yaml\\n\\nlineage: {}\\n...\\n\""
      ]
     },
     "execution_count": 5,
     "metadata": {},
     "output_type": "execute_result"
    }
   ],
   "source": [
    "bucket_name = 'deafrica-usgs-c2-data'\n",
    "path='usgs_ls8c_level2_2/157/070/2015/11/08/usgs_ls8c_level2_2-0-20190911_157070_2015-11-08.odc-metadata.yaml'\n",
    "\n",
    "my_raw = s3_object_to_raw(bucket_name, path)\n",
    "\n",
    "my_raw"
   ]
  },
  {
   "cell_type": "code",
   "execution_count": 7,
   "metadata": {},
   "outputs": [
    {
     "name": "stdout",
     "output_type": "stream",
     "text": [
      "usgs_ls8c_level2_2/157/070/2015/11/08/LC08_L2SP_157070_20151108_20190911_02_T1_MTL.txt\n"
     ]
    },
    {
     "data": {
      "text/plain": [
       "b'GROUP = LANDSAT_METADATA_FILE\\n  GROUP = PRODUCT_CONTENTS\\n    ORIGIN = \"Image courtesy of the U.S. Geological Survey\"\\n    DIGITAL_OBJECT_IDENTIFIER = \"https://doi.org/10.5066/F78S4MZJ\"\\n    LANDSAT_PRODUCT_ID = \"LC08_L2SP_157070_20151108_20190911_02_T1\"\\n    PROCESSING_LEVEL = \"L2SP\"\\n    COLLECTION_NUMBER = 02\\n    COLLECTION_CATEGORY = \"T1\"\\n    OUTPUT_FORMAT = \"GEOTIFF\"\\n    FILE_NAME_BAND_1 = \"LC08_L2SP_157070_20151108_20190911_02_T1_SR_B1.TIF\"\\n    FILE_NAME_BAND_2 = \"LC08_L2SP_157070_20151108_20190911_02_T1_SR_B2.TIF\"\\n    FILE_NAME_BAND_3 = \"LC08_L2SP_157070_20151108_20190911_02_T1_SR_B3.TIF\"\\n    FILE_NAME_BAND_4 = \"LC08_L2SP_157070_20151108_20190911_02_T1_SR_B4.TIF\"\\n    FILE_NAME_BAND_5 = \"LC08_L2SP_157070_20151108_20190911_02_T1_SR_B5.TIF\"\\n    FILE_NAME_BAND_6 = \"LC08_L2SP_157070_20151108_20190911_02_T1_SR_B6.TIF\"\\n    FILE_NAME_BAND_7 = \"LC08_L2SP_157070_20151108_20190911_02_T1_SR_B7.TIF\"\\n    FILE_NAME_BAND_ST_B10 = \"LC08_L2SP_157070_20151108_20190911_02_T1_ST_B10.TIF\"\\n    FILE_NAME_THERMAL_RADIANCE = \"LC08_L2SP_157070_20151108_20190911_02_T1_ST_TRAD.TIF\"\\n    FILE_NAME_UPWELL_RADIANCE = \"LC08_L2SP_157070_20151108_20190911_02_T1_ST_URAD.TIF\"\\n    FILE_NAME_DOWNWELL_RADIANCE = \"LC08_L2SP_157070_20151108_20190911_02_T1_ST_DRAD.TIF\"\\n    FILE_NAME_ATMOSPHERIC_TRANSMITTANCE = \"LC08_L2SP_157070_20151108_20190911_02_T1_ST_ATRAN.TIF\"\\n    FILE_NAME_EMISSIVITY = \"LC08_L2SP_157070_20151108_20190911_02_T1_ST_EMIS.TIF\"\\n    FILE_NAME_EMISSIVITY_STDEV = \"LC08_L2SP_157070_20151108_20190911_02_T1_ST_EMSD.TIF\"\\n    FILE_NAME_CLOUD_DISTANCE = \"LC08_L2SP_157070_20151108_20190911_02_T1_ST_CDIST.TIF\"\\n    FILE_NAME_QUALITY_L2_AEROSOL = \"LC08_L2SP_157070_20151108_20190911_02_T1_SR_QA_AEROSOL.TIF\"\\n    FILE_NAME_QUALITY_L2_SURFACE_TEMPERATURE = \"LC08_L2SP_157070_20151108_20190911_02_T1_ST_QA.TIF\"\\n    FILE_NAME_QUALITY_L1_PIXEL = \"LC08_L2SP_157070_20151108_20190911_02_T1_QA_PIXEL.TIF\"\\n    FILE_NAME_QUALITY_L1_RADIOMETRIC_SATURATION = \"LC08_L2SP_157070_20151108_20190911_02_T1_QA_RADSAT.TIF\"\\n    FILE_NAME_METADATA_ODL = \"LC08_L2SP_157070_20151108_20190911_02_T1_MTL.txt\"\\n    FILE_NAME_METADATA_XML = \"LC08_L2SP_157070_20151108_20190911_02_T1_MTL.xml\"\\n    DATA_TYPE_BAND_1 = \"UINT16\"\\n    DATA_TYPE_BAND_2 = \"UINT16\"\\n    DATA_TYPE_BAND_3 = \"UINT16\"\\n    DATA_TYPE_BAND_4 = \"UINT16\"\\n    DATA_TYPE_BAND_5 = \"UINT16\"\\n    DATA_TYPE_BAND_6 = \"UINT16\"\\n    DATA_TYPE_BAND_7 = \"UINT16\"\\n    DATA_TYPE_BAND_ST_B10 = \"UINT16\"\\n    DATA_TYPE_THERMAL_RADIANCE = \"INT16\"\\n    DATA_TYPE_UPWELL_RADIANCE = \"INT16\"\\n    DATA_TYPE_DOWNWELL_RADIANCE = \"INT16\"\\n    DATA_TYPE_ATMOSPHERIC_TRANSMITTANCE = \"INT16\"\\n    DATA_TYPE_EMISSIVITY = \"INT16\"\\n    DATA_TYPE_EMISSIVITY_STDEV = \"INT16\"\\n    DATA_TYPE_CLOUD_DISTANCE = \"INT16\"\\n    DATA_TYPE_QUALITY_L2_AEROSOL = \"UINT8\"\\n    DATA_TYPE_QUALITY_L2_SURFACE_TEMPERATURE = \"INT16\"\\n    DATA_TYPE_QUALITY_L1_PIXEL = \"UINT16\"\\n    DATA_TYPE_QUALITY_L1_RADIOMETRIC_SATURATION = \"UINT16\"\\n  END_GROUP = PRODUCT_CONTENTS\\n  GROUP = IMAGE_ATTRIBUTES\\n    SPACECRAFT_ID = \"LANDSAT_8\"\\n    SENSOR_ID = \"OLI_TIRS\"\\n    WRS_TYPE = 2\\n    WRS_PATH = 157\\n    WRS_ROW = 70\\n    NADIR_OFFNADIR = \"OFFNADIR\"\\n    TARGET_WRS_PATH = 158\\n    TARGET_WRS_ROW = 70\\n    DATE_ACQUIRED = 2015-11-08\\n    SCENE_CENTER_TIME = \"06:38:57.8758280Z\"\\n    STATION_ID = \"LGN\"\\n    CLOUD_COVER = 68.37\\n    CLOUD_COVER_LAND = 77.37\\n    IMAGE_QUALITY_OLI = 9\\n    IMAGE_QUALITY_TIRS = 9\\n    SATURATION_BAND_1 = \"N\"\\n    SATURATION_BAND_2 = \"N\"\\n    SATURATION_BAND_3 = \"N\"\\n    SATURATION_BAND_4 = \"N\"\\n    SATURATION_BAND_5 = \"N\"\\n    SATURATION_BAND_6 = \"Y\"\\n    SATURATION_BAND_7 = \"Y\"\\n    SATURATION_BAND_8 = \"N\"\\n    SATURATION_BAND_9 = \"N\"\\n    ROLL_ANGLE = -12.735\\n    SUN_AZIMUTH = 98.06121879\\n    SUN_ELEVATION = 64.46336127\\n    EARTH_SUN_DISTANCE = 0.9908890\\n    TRUNCATION_OLI = \"UPPER\"\\n    TIRS_SSM_MODEL = \"FINAL\"\\n    TIRS_SSM_POSITION_STATUS = \"ESTIMATED\"\\n  END_GROUP = IMAGE_ATTRIBUTES\\n  GROUP = PROJECTION_ATTRIBUTES\\n    MAP_PROJECTION = \"UTM\"\\n    DATUM = \"WGS84\"\\n    ELLIPSOID = \"WGS84\"\\n    UTM_ZONE = 39\\n    GRID_CELL_SIZE_REFLECTIVE = 30.00\\n    GRID_CELL_SIZE_THERMAL = 30.00\\n    REFLECTIVE_LINES = 7791\\n    REFLECTIVE_SAMPLES = 8021\\n    THERMAL_LINES = 7791\\n    THERMAL_SAMPLES = 8021\\n    ORIENTATION = \"NORTH_UP\"\\n    CORNER_UL_LAT_PRODUCT = -13.39172\\n    CORNER_UL_LON_PRODUCT = 48.61581\\n    CORNER_UR_LAT_PRODUCT = -13.40292\\n    CORNER_UR_LON_PRODUCT = 50.83743\\n    CORNER_LL_LAT_PRODUCT = -15.50290\\n    CORNER_LL_LON_PRODUCT = 48.59320\\n    CORNER_LR_LAT_PRODUCT = -15.51595\\n    CORNER_LR_LON_PRODUCT = 50.83589\\n    CORNER_UL_PROJECTION_X_PRODUCT = 241800.000\\n    CORNER_UL_PROJECTION_Y_PRODUCT = -1481700.000\\n    CORNER_UR_PROJECTION_X_PRODUCT = 482400.000\\n    CORNER_UR_PROJECTION_Y_PRODUCT = -1481700.000\\n    CORNER_LL_PROJECTION_X_PRODUCT = 241800.000\\n    CORNER_LL_PROJECTION_Y_PRODUCT = -1715400.000\\n    CORNER_LR_PROJECTION_X_PRODUCT = 482400.000\\n    CORNER_LR_PROJECTION_Y_PRODUCT = -1715400.000\\n  END_GROUP = PROJECTION_ATTRIBUTES\\n  GROUP = LEVEL2_PROCESSING_RECORD\\n    ORIGIN = \"Image courtesy of the U.S. Geological Survey\"\\n    DIGITAL_OBJECT_IDENTIFIER = \"https://doi.org/10.5066/F78S4MZJ\"\\n    REQUEST_ID = \"L2\"\\n    LANDSAT_PRODUCT_ID = \"LC08_L2SP_157070_20151108_20190911_02_T1\"\\n    PROCESSING_LEVEL = \"L2SP\"\\n    OUTPUT_FORMAT = \"GEOTIFF\"\\n    DATE_PRODUCT_GENERATED = 2019-09-11T20:39:46Z\\n    PROCESSING_SOFTWARE_VERSION = \"LPGS_Unknown\"\\n    ALGORITHM_SOURCE_SURFACE_REFLECTANCE = \"LaSRC_1.4.1\"\\n    DATA_SOURCE_OZONE = \"MODIS\"\\n    DATA_SOURCE_PRESSURE = \"Calculated\"\\n    DATA_SOURCE_WATER_VAPOR = \"MODIS\"\\n    DATA_SOURCE_AIR_TEMPERATURE = \"MODIS\"\\n    ALGORITHM_SOURCE_SURFACE_TEMPERATURE = \"st_1.3.0\"\\n    DATA_SOURCE_REANALYSIS = \"GEOS-5 FP-IT\"\\n  END_GROUP = LEVEL2_PROCESSING_RECORD\\n  GROUP = LEVEL2_SURFACE_REFLECTANCE_PARAMETERS\\n    REFLECTANCE_MAXIMUM_BAND_1 = 1.602213\\n    REFLECTANCE_MINIMUM_BAND_1 = -0.200000\\n    REFLECTANCE_MAXIMUM_BAND_2 = 1.602213\\n    REFLECTANCE_MINIMUM_BAND_2 = -0.200000\\n    REFLECTANCE_MAXIMUM_BAND_3 = 1.602213\\n    REFLECTANCE_MINIMUM_BAND_3 = -0.200000\\n    REFLECTANCE_MAXIMUM_BAND_4 = 1.602213\\n    REFLECTANCE_MINIMUM_BAND_4 = -0.200000\\n    REFLECTANCE_MAXIMUM_BAND_5 = 1.602213\\n    REFLECTANCE_MINIMUM_BAND_5 = -0.200000\\n    REFLECTANCE_MAXIMUM_BAND_6 = 1.602213\\n    REFLECTANCE_MINIMUM_BAND_6 = -0.200000\\n    REFLECTANCE_MAXIMUM_BAND_7 = 1.602213\\n    REFLECTANCE_MINIMUM_BAND_7 = -0.200000\\n    QUANTIZE_CAL_MAX_BAND_1 = 65535\\n    QUANTIZE_CAL_MIN_BAND_1 = 0\\n    QUANTIZE_CAL_MAX_BAND_2 = 65535\\n    QUANTIZE_CAL_MIN_BAND_2 = 0\\n    QUANTIZE_CAL_MAX_BAND_3 = 65535\\n    QUANTIZE_CAL_MIN_BAND_3 = 0\\n    QUANTIZE_CAL_MAX_BAND_4 = 65535\\n    QUANTIZE_CAL_MIN_BAND_4 = 0\\n    QUANTIZE_CAL_MAX_BAND_5 = 65535\\n    QUANTIZE_CAL_MIN_BAND_5 = 0\\n    QUANTIZE_CAL_MAX_BAND_6 = 65535\\n    QUANTIZE_CAL_MIN_BAND_6 = 0\\n    QUANTIZE_CAL_MAX_BAND_7 = 65535\\n    QUANTIZE_CAL_MIN_BAND_7 = 0\\n    REFLECTANCE_MULT_BAND_1 = 2.75e-05\\n    REFLECTANCE_MULT_BAND_2 = 2.75e-05\\n    REFLECTANCE_MULT_BAND_3 = 2.75e-05\\n    REFLECTANCE_MULT_BAND_4 = 2.75e-05\\n    REFLECTANCE_MULT_BAND_5 = 2.75e-05\\n    REFLECTANCE_MULT_BAND_6 = 2.75e-05\\n    REFLECTANCE_MULT_BAND_7 = 2.75e-05\\n    REFLECTANCE_ADD_BAND_1 = -0.2\\n    REFLECTANCE_ADD_BAND_2 = -0.2\\n    REFLECTANCE_ADD_BAND_3 = -0.2\\n    REFLECTANCE_ADD_BAND_4 = -0.2\\n    REFLECTANCE_ADD_BAND_5 = -0.2\\n    REFLECTANCE_ADD_BAND_6 = -0.2\\n    REFLECTANCE_ADD_BAND_7 = -0.2\\n  END_GROUP = LEVEL2_SURFACE_REFLECTANCE_PARAMETERS\\n  GROUP = LEVEL2_SURFACE_TEMPERATURE_PARAMETERS\\n    TEMPERATURE_MAXIMUM_BAND_ST_B10 = 372.999941\\n    TEMPERATURE_MINIMUM_BAND_ST_B10 = 149.000000\\n    QUANTIZE_CAL_MAXIMUM_BAND_ST_B10 = 65535\\n    QUANTIZE_CAL_MINIMUM_BAND_ST_B10 = 0\\n    TEMPERATURE_MULT_BAND_ST_B10 = 0.00341802\\n    TEMPERATURE_ADD_BAND_ST_B10 = 149.0\\n  END_GROUP = LEVEL2_SURFACE_TEMPERATURE_PARAMETERS\\n  GROUP = LEVEL1_PROCESSING_RECORD\\n    ORIGIN = \"Image courtesy of the U.S. Geological Survey\"\\n    DIGITAL_OBJECT_IDENTIFIER = \"https://doi.org/10.5066/F71835S6\"\\n    REQUEST_ID = \"L2\"\\n    LANDSAT_SCENE_ID = \"LC81570702015312LGN01\"\\n    LANDSAT_PRODUCT_ID = \"LC08_L1TP_157070_20151108_20190911_02_T1\"\\n    PROCESSING_LEVEL = \"L1TP\"\\n    COLLECTION_CATEGORY = \"T1\"\\n    OUTPUT_FORMAT = \"GEOTIFF\"\\n    DATE_PRODUCT_GENERATED = 2019-09-11T20:27:47Z\\n    PROCESSING_SOFTWARE_VERSION = \"LPGS_Unknown\"\\n    FILE_NAME_BAND_1 = \"LC08_L1TP_157070_20151108_20190911_02_T1_B1.TIF\"\\n    FILE_NAME_BAND_2 = \"LC08_L1TP_157070_20151108_20190911_02_T1_B2.TIF\"\\n    FILE_NAME_BAND_3 = \"LC08_L1TP_157070_20151108_20190911_02_T1_B3.TIF\"\\n    FILE_NAME_BAND_4 = \"LC08_L1TP_157070_20151108_20190911_02_T1_B4.TIF\"\\n    FILE_NAME_BAND_5 = \"LC08_L1TP_157070_20151108_20190911_02_T1_B5.TIF\"\\n    FILE_NAME_BAND_6 = \"LC08_L1TP_157070_20151108_20190911_02_T1_B6.TIF\"\\n    FILE_NAME_BAND_7 = \"LC08_L1TP_157070_20151108_20190911_02_T1_B7.TIF\"\\n    FILE_NAME_BAND_8 = \"LC08_L1TP_157070_20151108_20190911_02_T1_B8.TIF\"\\n    FILE_NAME_BAND_9 = \"LC08_L1TP_157070_20151108_20190911_02_T1_B9.TIF\"\\n    FILE_NAME_BAND_10 = \"LC08_L1TP_157070_20151108_20190911_02_T1_B10.TIF\"\\n    FILE_NAME_BAND_11 = \"LC08_L1TP_157070_20151108_20190911_02_T1_B11.TIF\"\\n    FILE_NAME_QUALITY_L1_PIXEL = \"LC08_L1TP_157070_20151108_20190911_02_T1_QA_PIXEL.TIF\"\\n    FILE_NAME_QUALITY_L1_RADIOMETRIC_SATURATION = \"LC08_L1TP_157070_20151108_20190911_02_T1_QA_RADSAT.TIF\"\\n    FILE_NAME_ANGLE_COEFFICIENT = \"LC08_L1TP_157070_20151108_20190911_02_T1_ANG.txt\"\\n    FILE_NAME_ANGLE_SENSOR_AZIMUTH_BAND_4 = \"LC08_L1TP_157070_20151108_20190911_02_T1_SEA.TIF\"\\n    FILE_NAME_ANGLE_SENSOR_ZENITH_BAND_4 = \"LC08_L1TP_157070_20151108_20190911_02_T1_SEZ.TIF\"\\n    FILE_NAME_ANGLE_SOLAR_AZIMUTH_BAND_4 = \"LC08_L1TP_157070_20151108_20190911_02_T1_SAA.TIF\"\\n    FILE_NAME_ANGLE_SOLAR_ZENITH_BAND_4 = \"LC08_L1TP_157070_20151108_20190911_02_T1_SZA.TIF\"\\n    FILE_NAME_METADATA_ODL = \"LC08_L1TP_157070_20151108_20190911_02_T1_MTL.txt\"\\n    FILE_NAME_METADATA_XML = \"LC08_L1TP_157070_20151108_20190911_02_T1_MTL.xml\"\\n    FILE_NAME_CPF = \"LC08CPF_20151001_20151231_02.01\"\\n    FILE_NAME_BPF_OLI = \"LO8BPF20151108061446_20151108070036.03\"\\n    FILE_NAME_BPF_TIRS = \"LT8BPF20151029161821_20151113130336.01\"\\n    FILE_NAME_RLUT = \"LC08RLUT_20150303_20431231_02_12.h5\"\\n    DATA_SOURCE_TIRS_STRAY_LIGHT_CORRECTION = \"TIRS\"\\n    DATA_SOURCE_ELEVATION = \"GLS2000\"\\n    GROUND_CONTROL_POINTS_VERSION = 51\\n    GROUND_CONTROL_POINTS_MODEL = 513\\n    GEOMETRIC_RMSE_MODEL = 7.622\\n    GEOMETRIC_RMSE_MODEL_Y = 6.009\\n    GEOMETRIC_RMSE_MODEL_X = 4.688\\n    GROUND_CONTROL_POINTS_VERIFY = 147\\n    GEOMETRIC_RMSE_VERIFY = 7.144\\n  END_GROUP = LEVEL1_PROCESSING_RECORD\\n  GROUP = LEVEL1_MIN_MAX_RADIANCE\\n    RADIANCE_MAXIMUM_BAND_1 = 774.10413\\n    RADIANCE_MINIMUM_BAND_1 = -63.92577\\n    RADIANCE_MAXIMUM_BAND_2 = 792.69208\\n    RADIANCE_MINIMUM_BAND_2 = -65.46077\\n    RADIANCE_MAXIMUM_BAND_3 = 730.45898\\n    RADIANCE_MINIMUM_BAND_3 = -60.32154\\n    RADIANCE_MAXIMUM_BAND_4 = 615.96417\\n    RADIANCE_MINIMUM_BAND_4 = -50.86652\\n    RADIANCE_MAXIMUM_BAND_5 = 376.93933\\n    RADIANCE_MINIMUM_BAND_5 = -31.12777\\n    RADIANCE_MAXIMUM_BAND_6 = 93.74139\\n    RADIANCE_MINIMUM_BAND_6 = -7.74119\\n    RADIANCE_MAXIMUM_BAND_7 = 31.59587\\n    RADIANCE_MINIMUM_BAND_7 = -2.60920\\n    RADIANCE_MAXIMUM_BAND_8 = 697.10187\\n    RADIANCE_MINIMUM_BAND_8 = -57.56690\\n    RADIANCE_MAXIMUM_BAND_9 = 147.31644\\n    RADIANCE_MINIMUM_BAND_9 = -12.16544\\n    RADIANCE_MAXIMUM_BAND_10 = 22.00180\\n    RADIANCE_MINIMUM_BAND_10 = 0.10033\\n    RADIANCE_MAXIMUM_BAND_11 = 22.00180\\n    RADIANCE_MINIMUM_BAND_11 = 0.10033\\n  END_GROUP = LEVEL1_MIN_MAX_RADIANCE\\n  GROUP = LEVEL1_MIN_MAX_REFLECTANCE\\n    REFLECTANCE_MAXIMUM_BAND_1 = 1.210700\\n    REFLECTANCE_MINIMUM_BAND_1 = -0.099980\\n    REFLECTANCE_MAXIMUM_BAND_2 = 1.210700\\n    REFLECTANCE_MINIMUM_BAND_2 = -0.099980\\n    REFLECTANCE_MAXIMUM_BAND_3 = 1.210700\\n    REFLECTANCE_MINIMUM_BAND_3 = -0.099980\\n    REFLECTANCE_MAXIMUM_BAND_4 = 1.210700\\n    REFLECTANCE_MINIMUM_BAND_4 = -0.099980\\n    REFLECTANCE_MAXIMUM_BAND_5 = 1.210700\\n    REFLECTANCE_MINIMUM_BAND_5 = -0.099980\\n    REFLECTANCE_MAXIMUM_BAND_6 = 1.210700\\n    REFLECTANCE_MINIMUM_BAND_6 = -0.099980\\n    REFLECTANCE_MAXIMUM_BAND_7 = 1.210700\\n    REFLECTANCE_MINIMUM_BAND_7 = -0.099980\\n    REFLECTANCE_MAXIMUM_BAND_8 = 1.210700\\n    REFLECTANCE_MINIMUM_BAND_8 = -0.099980\\n    REFLECTANCE_MAXIMUM_BAND_9 = 1.210700\\n    REFLECTANCE_MINIMUM_BAND_9 = -0.099980\\n  END_GROUP = LEVEL1_MIN_MAX_REFLECTANCE\\n  GROUP = LEVEL1_MIN_MAX_PIXEL_VALUE\\n    QUANTIZE_CAL_MAX_BAND_1 = 65535\\n    QUANTIZE_CAL_MIN_BAND_1 = 1\\n    QUANTIZE_CAL_MAX_BAND_2 = 65535\\n    QUANTIZE_CAL_MIN_BAND_2 = 1\\n    QUANTIZE_CAL_MAX_BAND_3 = 65535\\n    QUANTIZE_CAL_MIN_BAND_3 = 1\\n    QUANTIZE_CAL_MAX_BAND_4 = 65535\\n    QUANTIZE_CAL_MIN_BAND_4 = 1\\n    QUANTIZE_CAL_MAX_BAND_5 = 65535\\n    QUANTIZE_CAL_MIN_BAND_5 = 1\\n    QUANTIZE_CAL_MAX_BAND_6 = 65535\\n    QUANTIZE_CAL_MIN_BAND_6 = 1\\n    QUANTIZE_CAL_MAX_BAND_7 = 65535\\n    QUANTIZE_CAL_MIN_BAND_7 = 1\\n    QUANTIZE_CAL_MAX_BAND_8 = 65535\\n    QUANTIZE_CAL_MIN_BAND_8 = 1\\n    QUANTIZE_CAL_MAX_BAND_9 = 65535\\n    QUANTIZE_CAL_MIN_BAND_9 = 1\\n    QUANTIZE_CAL_MAX_BAND_10 = 65535\\n    QUANTIZE_CAL_MIN_BAND_10 = 1\\n    QUANTIZE_CAL_MAX_BAND_11 = 65535\\n    QUANTIZE_CAL_MIN_BAND_11 = 1\\n  END_GROUP = LEVEL1_MIN_MAX_PIXEL_VALUE\\n  GROUP = LEVEL1_RADIOMETRIC_RESCALING\\n    RADIANCE_MULT_BAND_1 = 1.2788E-02\\n    RADIANCE_MULT_BAND_2 = 1.3095E-02\\n    RADIANCE_MULT_BAND_3 = 1.2067E-02\\n    RADIANCE_MULT_BAND_4 = 1.0175E-02\\n    RADIANCE_MULT_BAND_5 = 6.2268E-03\\n    RADIANCE_MULT_BAND_6 = 1.5485E-03\\n    RADIANCE_MULT_BAND_7 = 5.2194E-04\\n    RADIANCE_MULT_BAND_8 = 1.1516E-02\\n    RADIANCE_MULT_BAND_9 = 2.4336E-03\\n    RADIANCE_MULT_BAND_10 = 3.3420E-04\\n    RADIANCE_MULT_BAND_11 = 3.3420E-04\\n    RADIANCE_ADD_BAND_1 = -63.93856\\n    RADIANCE_ADD_BAND_2 = -65.47386\\n    RADIANCE_ADD_BAND_3 = -60.33361\\n    RADIANCE_ADD_BAND_4 = -50.87670\\n    RADIANCE_ADD_BAND_5 = -31.13400\\n    RADIANCE_ADD_BAND_6 = -7.74274\\n    RADIANCE_ADD_BAND_7 = -2.60972\\n    RADIANCE_ADD_BAND_8 = -57.57842\\n    RADIANCE_ADD_BAND_9 = -12.16787\\n    RADIANCE_ADD_BAND_10 = 0.10000\\n    RADIANCE_ADD_BAND_11 = 0.10000\\n    REFLECTANCE_MULT_BAND_1 = 2.0000E-05\\n    REFLECTANCE_MULT_BAND_2 = 2.0000E-05\\n    REFLECTANCE_MULT_BAND_3 = 2.0000E-05\\n    REFLECTANCE_MULT_BAND_4 = 2.0000E-05\\n    REFLECTANCE_MULT_BAND_5 = 2.0000E-05\\n    REFLECTANCE_MULT_BAND_6 = 2.0000E-05\\n    REFLECTANCE_MULT_BAND_7 = 2.0000E-05\\n    REFLECTANCE_MULT_BAND_8 = 2.0000E-05\\n    REFLECTANCE_MULT_BAND_9 = 2.0000E-05\\n    REFLECTANCE_ADD_BAND_1 = -0.100000\\n    REFLECTANCE_ADD_BAND_2 = -0.100000\\n    REFLECTANCE_ADD_BAND_3 = -0.100000\\n    REFLECTANCE_ADD_BAND_4 = -0.100000\\n    REFLECTANCE_ADD_BAND_5 = -0.100000\\n    REFLECTANCE_ADD_BAND_6 = -0.100000\\n    REFLECTANCE_ADD_BAND_7 = -0.100000\\n    REFLECTANCE_ADD_BAND_8 = -0.100000\\n    REFLECTANCE_ADD_BAND_9 = -0.100000\\n  END_GROUP = LEVEL1_RADIOMETRIC_RESCALING\\n  GROUP = LEVEL1_THERMAL_CONSTANTS\\n    K1_CONSTANT_BAND_10 = 774.8853\\n    K2_CONSTANT_BAND_10 = 1321.0789\\n    K1_CONSTANT_BAND_11 = 480.8883\\n    K2_CONSTANT_BAND_11 = 1201.1442\\n  END_GROUP = LEVEL1_THERMAL_CONSTANTS\\n  GROUP = LEVEL1_PROJECTION_PARAMETERS\\n    MAP_PROJECTION = \"UTM\"\\n    DATUM = \"WGS84\"\\n    ELLIPSOID = \"WGS84\"\\n    UTM_ZONE = 39\\n    GRID_CELL_SIZE_PANCHROMATIC = 15.00\\n    GRID_CELL_SIZE_REFLECTIVE = 30.00\\n    GRID_CELL_SIZE_THERMAL = 30.00\\n    ORIENTATION = \"NORTH_UP\"\\n    RESAMPLING_OPTION = \"CUBIC_CONVOLUTION\"\\n  END_GROUP = LEVEL1_PROJECTION_PARAMETERS\\nEND_GROUP = LANDSAT_METADATA_FILE\\nEND\\n'"
      ]
     },
     "execution_count": 7,
     "metadata": {},
     "output_type": "execute_result"
    }
   ],
   "source": [
    "bucket_name = 'deafrica-usgs-c2-data'\n",
    "path='usgs_ls8c_level2_2/157/070/2015/11/08/LC08_L2SP_157070_20151108_20190911_02_T1_MTL.txt'\n",
    "\n",
    "my_raw = s3_object_to_raw(bucket_name, path)\n",
    "\n",
    "my_raw"
   ]
  },
  {
   "cell_type": "code",
   "execution_count": null,
   "metadata": {},
   "outputs": [],
   "source": []
  }
 ],
 "metadata": {
  "kernelspec": {
   "display_name": "Python 3",
   "language": "python",
   "name": "python3"
  },
  "language_info": {
   "codemirror_mode": {
    "name": "ipython",
    "version": 3
   },
   "file_extension": ".py",
   "mimetype": "text/x-python",
   "name": "python",
   "nbconvert_exporter": "python",
   "pygments_lexer": "ipython3",
   "version": "3.6.8"
  }
 },
 "nbformat": 4,
 "nbformat_minor": 2
}
