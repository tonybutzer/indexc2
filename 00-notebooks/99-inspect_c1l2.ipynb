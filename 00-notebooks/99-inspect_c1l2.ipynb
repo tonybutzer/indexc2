{
 "cells": [
  {
   "cell_type": "markdown",
   "metadata": {},
   "source": [
    "# Verify Indexed Datasets"
   ]
  },
  {
   "cell_type": "code",
   "execution_count": 1,
   "metadata": {},
   "outputs": [
    {
     "name": "stdout",
     "output_type": "stream",
     "text": [
      "00-experiments\r\n",
      "00-hayden-with-progress.ipynb\r\n",
      "00-hayden.ipynb\r\n",
      "10-panda-lake-analyze_C1_L1_Albers_Scenes.ipynb\r\n",
      "20_yaml_play.ipynb\r\n",
      "90-understanding-MTL-and-C2-Africa-Provisional.ipynb\r\n",
      "99-inspect_c1l2.ipynb\r\n",
      "Makefile\r\n",
      "Untitled.ipynb\r\n",
      "inspect_all_indexed_datasets_starting_with_C2.ipynb\r\n",
      "Tue Feb  4 15:53:30 UTC 2020\r\n"
     ]
    }
   ],
   "source": [
    "!ls; date"
   ]
  },
  {
   "cell_type": "code",
   "execution_count": 2,
   "metadata": {},
   "outputs": [],
   "source": [
    "import datacube\n"
   ]
  },
  {
   "cell_type": "code",
   "execution_count": 3,
   "metadata": {},
   "outputs": [
    {
     "name": "stderr",
     "output_type": "stream",
     "text": [
      "Failed to resolve driver datacube.plugins.index::s3aio_index\n",
      "Error was: ContextualVersionConflict(botocore 1.14.8 (/usr/local/lib/python3.6/dist-packages), Requirement.parse('botocore<1.13.0,>=1.12.117'), {'boto3'})\n"
     ]
    }
   ],
   "source": [
    "dc = datacube.Datacube()"
   ]
  },
  {
   "cell_type": "code",
   "execution_count": 4,
   "metadata": {},
   "outputs": [
    {
     "data": {
      "text/html": [
       "<div>\n",
       "<style scoped>\n",
       "    .dataframe tbody tr th:only-of-type {\n",
       "        vertical-align: middle;\n",
       "    }\n",
       "\n",
       "    .dataframe tbody tr th {\n",
       "        vertical-align: top;\n",
       "    }\n",
       "\n",
       "    .dataframe thead th {\n",
       "        text-align: right;\n",
       "    }\n",
       "</style>\n",
       "<table border=\"1\" class=\"dataframe\">\n",
       "  <thead>\n",
       "    <tr style=\"text-align: right;\">\n",
       "      <th></th>\n",
       "      <th>name</th>\n",
       "      <th>description</th>\n",
       "      <th>creation_time</th>\n",
       "      <th>product_type</th>\n",
       "      <th>label</th>\n",
       "      <th>format</th>\n",
       "      <th>platform</th>\n",
       "      <th>lat</th>\n",
       "      <th>lon</th>\n",
       "      <th>instrument</th>\n",
       "      <th>time</th>\n",
       "      <th>crs</th>\n",
       "      <th>resolution</th>\n",
       "      <th>tile_size</th>\n",
       "      <th>spatial_dimensions</th>\n",
       "    </tr>\n",
       "    <tr>\n",
       "      <th>id</th>\n",
       "      <th></th>\n",
       "      <th></th>\n",
       "      <th></th>\n",
       "      <th></th>\n",
       "      <th></th>\n",
       "      <th></th>\n",
       "      <th></th>\n",
       "      <th></th>\n",
       "      <th></th>\n",
       "      <th></th>\n",
       "      <th></th>\n",
       "      <th></th>\n",
       "      <th></th>\n",
       "      <th></th>\n",
       "      <th></th>\n",
       "    </tr>\n",
       "  </thead>\n",
       "  <tbody>\n",
       "    <tr>\n",
       "      <th>3</th>\n",
       "      <td>c1l2scenealbers</td>\n",
       "      <td>Sample USGS Level 2 Collection 2 Landsat for i...</td>\n",
       "      <td>None</td>\n",
       "      <td>c1l2scenealbers</td>\n",
       "      <td>None</td>\n",
       "      <td>None</td>\n",
       "      <td>LANDSAT_8</td>\n",
       "      <td>None</td>\n",
       "      <td>None</td>\n",
       "      <td>OLI_TIRS</td>\n",
       "      <td>None</td>\n",
       "      <td>NaN</td>\n",
       "      <td>NaN</td>\n",
       "      <td>NaN</td>\n",
       "      <td>NaN</td>\n",
       "    </tr>\n",
       "  </tbody>\n",
       "</table>\n",
       "</div>"
      ],
      "text/plain": [
       "               name                                        description  \\\n",
       "id                                                                       \n",
       "3   c1l2scenealbers  Sample USGS Level 2 Collection 2 Landsat for i...   \n",
       "\n",
       "   creation_time     product_type label format   platform   lat   lon  \\\n",
       "id                                                                      \n",
       "3           None  c1l2scenealbers  None   None  LANDSAT_8  None  None   \n",
       "\n",
       "   instrument  time  crs  resolution  tile_size  spatial_dimensions  \n",
       "id                                                                   \n",
       "3    OLI_TIRS  None  NaN         NaN        NaN                 NaN  "
      ]
     },
     "execution_count": 4,
     "metadata": {},
     "output_type": "execute_result"
    }
   ],
   "source": [
    "dc.list_products()"
   ]
  },
  {
   "cell_type": "code",
   "execution_count": 5,
   "metadata": {},
   "outputs": [
    {
     "data": {
      "text/plain": [
       "['__class__',\n",
       " '__delattr__',\n",
       " '__dict__',\n",
       " '__dir__',\n",
       " '__doc__',\n",
       " '__enter__',\n",
       " '__eq__',\n",
       " '__exit__',\n",
       " '__format__',\n",
       " '__ge__',\n",
       " '__getattribute__',\n",
       " '__gt__',\n",
       " '__hash__',\n",
       " '__init__',\n",
       " '__init_subclass__',\n",
       " '__le__',\n",
       " '__lt__',\n",
       " '__module__',\n",
       " '__ne__',\n",
       " '__new__',\n",
       " '__reduce__',\n",
       " '__reduce_ex__',\n",
       " '__repr__',\n",
       " '__setattr__',\n",
       " '__sizeof__',\n",
       " '__str__',\n",
       " '__subclasshook__',\n",
       " '__weakref__',\n",
       " '_dask_load',\n",
       " '_list_measurements',\n",
       " '_xr_load',\n",
       " 'close',\n",
       " 'create_storage',\n",
       " 'find_datasets',\n",
       " 'find_datasets_lazy',\n",
       " 'group_datasets',\n",
       " 'index',\n",
       " 'list_measurements',\n",
       " 'list_products',\n",
       " 'load',\n",
       " 'load_data',\n",
       " 'measurement_data']"
      ]
     },
     "execution_count": 5,
     "metadata": {},
     "output_type": "execute_result"
    }
   ],
   "source": [
    "dir(dc)"
   ]
  },
  {
   "cell_type": "code",
   "execution_count": 6,
   "metadata": {},
   "outputs": [
    {
     "data": {
      "text/html": [
       "<div>\n",
       "<style scoped>\n",
       "    .dataframe tbody tr th:only-of-type {\n",
       "        vertical-align: middle;\n",
       "    }\n",
       "\n",
       "    .dataframe tbody tr th {\n",
       "        vertical-align: top;\n",
       "    }\n",
       "\n",
       "    .dataframe thead th {\n",
       "        text-align: right;\n",
       "    }\n",
       "</style>\n",
       "<table border=\"1\" class=\"dataframe\">\n",
       "  <thead>\n",
       "    <tr style=\"text-align: right;\">\n",
       "      <th></th>\n",
       "      <th></th>\n",
       "      <th>aliases</th>\n",
       "      <th>dtype</th>\n",
       "      <th>flags_definition</th>\n",
       "      <th>name</th>\n",
       "      <th>nodata</th>\n",
       "      <th>units</th>\n",
       "    </tr>\n",
       "    <tr>\n",
       "      <th>product</th>\n",
       "      <th>measurement</th>\n",
       "      <th></th>\n",
       "      <th></th>\n",
       "      <th></th>\n",
       "      <th></th>\n",
       "      <th></th>\n",
       "      <th></th>\n",
       "    </tr>\n",
       "  </thead>\n",
       "  <tbody>\n",
       "    <tr>\n",
       "      <th rowspan=\"9\" valign=\"top\">c1l2scenealbers</th>\n",
       "      <th>coastal_aerosol</th>\n",
       "      <td>[b1, band_1]</td>\n",
       "      <td>uint16</td>\n",
       "      <td>NaN</td>\n",
       "      <td>coastal_aerosol</td>\n",
       "      <td>0</td>\n",
       "      <td>1</td>\n",
       "    </tr>\n",
       "    <tr>\n",
       "      <th>blue</th>\n",
       "      <td>[b2, band_2]</td>\n",
       "      <td>uint16</td>\n",
       "      <td>NaN</td>\n",
       "      <td>blue</td>\n",
       "      <td>0</td>\n",
       "      <td>1</td>\n",
       "    </tr>\n",
       "    <tr>\n",
       "      <th>green</th>\n",
       "      <td>[b3, band_3]</td>\n",
       "      <td>uint16</td>\n",
       "      <td>NaN</td>\n",
       "      <td>green</td>\n",
       "      <td>0</td>\n",
       "      <td>1</td>\n",
       "    </tr>\n",
       "    <tr>\n",
       "      <th>red</th>\n",
       "      <td>[b4, band_4]</td>\n",
       "      <td>uint16</td>\n",
       "      <td>NaN</td>\n",
       "      <td>red</td>\n",
       "      <td>0</td>\n",
       "      <td>1</td>\n",
       "    </tr>\n",
       "    <tr>\n",
       "      <th>nir</th>\n",
       "      <td>[b5, band_5]</td>\n",
       "      <td>uint16</td>\n",
       "      <td>NaN</td>\n",
       "      <td>nir</td>\n",
       "      <td>0</td>\n",
       "      <td>1</td>\n",
       "    </tr>\n",
       "    <tr>\n",
       "      <th>swir_1</th>\n",
       "      <td>[b6, band_6, swir1]</td>\n",
       "      <td>uint16</td>\n",
       "      <td>NaN</td>\n",
       "      <td>swir_1</td>\n",
       "      <td>0</td>\n",
       "      <td>1</td>\n",
       "    </tr>\n",
       "    <tr>\n",
       "      <th>swir_2</th>\n",
       "      <td>[b7, band_7, swir2]</td>\n",
       "      <td>uint16</td>\n",
       "      <td>NaN</td>\n",
       "      <td>swir_2</td>\n",
       "      <td>0</td>\n",
       "      <td>1</td>\n",
       "    </tr>\n",
       "    <tr>\n",
       "      <th>thermal_radiance</th>\n",
       "      <td>[st_trad]</td>\n",
       "      <td>int16</td>\n",
       "      <td>NaN</td>\n",
       "      <td>thermal_radiance</td>\n",
       "      <td>-9999</td>\n",
       "      <td>1</td>\n",
       "    </tr>\n",
       "    <tr>\n",
       "      <th>quality_l2_aerosol</th>\n",
       "      <td>[aerosol_qa]</td>\n",
       "      <td>uint8</td>\n",
       "      <td>{'water': {'bits': 2, 'values': {'0': 'not_wat...</td>\n",
       "      <td>quality_l2_aerosol</td>\n",
       "      <td>1</td>\n",
       "      <td>bit_index</td>\n",
       "    </tr>\n",
       "  </tbody>\n",
       "</table>\n",
       "</div>"
      ],
      "text/plain": [
       "                                                aliases   dtype  \\\n",
       "product         measurement                                       \n",
       "c1l2scenealbers coastal_aerosol            [b1, band_1]  uint16   \n",
       "                blue                       [b2, band_2]  uint16   \n",
       "                green                      [b3, band_3]  uint16   \n",
       "                red                        [b4, band_4]  uint16   \n",
       "                nir                        [b5, band_5]  uint16   \n",
       "                swir_1              [b6, band_6, swir1]  uint16   \n",
       "                swir_2              [b7, band_7, swir2]  uint16   \n",
       "                thermal_radiance              [st_trad]   int16   \n",
       "                quality_l2_aerosol         [aerosol_qa]   uint8   \n",
       "\n",
       "                                                                     flags_definition  \\\n",
       "product         measurement                                                             \n",
       "c1l2scenealbers coastal_aerosol                                                   NaN   \n",
       "                blue                                                              NaN   \n",
       "                green                                                             NaN   \n",
       "                red                                                               NaN   \n",
       "                nir                                                               NaN   \n",
       "                swir_1                                                            NaN   \n",
       "                swir_2                                                            NaN   \n",
       "                thermal_radiance                                                  NaN   \n",
       "                quality_l2_aerosol  {'water': {'bits': 2, 'values': {'0': 'not_wat...   \n",
       "\n",
       "                                                  name  nodata      units  \n",
       "product         measurement                                                \n",
       "c1l2scenealbers coastal_aerosol        coastal_aerosol       0          1  \n",
       "                blue                              blue       0          1  \n",
       "                green                            green       0          1  \n",
       "                red                                red       0          1  \n",
       "                nir                                nir       0          1  \n",
       "                swir_1                          swir_1       0          1  \n",
       "                swir_2                          swir_2       0          1  \n",
       "                thermal_radiance      thermal_radiance   -9999          1  \n",
       "                quality_l2_aerosol  quality_l2_aerosol       1  bit_index  "
      ]
     },
     "execution_count": 6,
     "metadata": {},
     "output_type": "execute_result"
    }
   ],
   "source": [
    "dc.list_measurements()"
   ]
  },
  {
   "cell_type": "code",
   "execution_count": 7,
   "metadata": {},
   "outputs": [],
   "source": [
    "product = 'c1l2scenealbers'\n",
    "ds = dc.find_datasets(product=product)"
   ]
  },
  {
   "cell_type": "code",
   "execution_count": 8,
   "metadata": {},
   "outputs": [
    {
     "data": {
      "text/plain": [
       "Dataset <id=87f69cc0-7010-42a4-ab63-747b49491ff5 type=c1l2scenealbers location=collection1/level2/albers/oli-tirs/2018/046/028/LC08_L1GT_046028_20180412_20180417_01_A2/LC08_L1GT_046028_20180412_20180417_01_A2.xml:>"
      ]
     },
     "execution_count": 8,
     "metadata": {},
     "output_type": "execute_result"
    }
   ],
   "source": [
    "ds[0]"
   ]
  },
  {
   "cell_type": "code",
   "execution_count": 9,
   "metadata": {},
   "outputs": [
    {
     "data": {
      "text/plain": [
       "{'id': '87f69cc0-7010-42a4-ab63-747b49491ff5',\n",
       " 'image': {'bands': {'nir': {'path': 's3://dev-usgs-landsat/collection1/level2/albers/oli-tirs/2018/046/028/LC08_L1GT_046028_20180412_20180417_01_A2/LC08_L1GT_046028_20180412_20180417_01_A2_sr_band5.tif',\n",
       "    'layer': 1},\n",
       "   'red': {'path': 's3://dev-usgs-landsat/collection1/level2/albers/oli-tirs/2018/046/028/LC08_L1GT_046028_20180412_20180417_01_A2/LC08_L1GT_046028_20180412_20180417_01_A2_sr_band4.tif',\n",
       "    'layer': 1},\n",
       "   'blue': {'path': 's3://dev-usgs-landsat/collection1/level2/albers/oli-tirs/2018/046/028/LC08_L1GT_046028_20180412_20180417_01_A2/LC08_L1GT_046028_20180412_20180417_01_A2_sr_band2.tif',\n",
       "    'layer': 1},\n",
       "   'green': {'path': 's3://dev-usgs-landsat/collection1/level2/albers/oli-tirs/2018/046/028/LC08_L1GT_046028_20180412_20180417_01_A2/LC08_L1GT_046028_20180412_20180417_01_A2_sr_band3.tif',\n",
       "    'layer': 1},\n",
       "   'swir_1': {'path': 's3://dev-usgs-landsat/collection1/level2/albers/oli-tirs/2018/046/028/LC08_L1GT_046028_20180412_20180417_01_A2/LC08_L1GT_046028_20180412_20180417_01_A2_sr_band6.tif',\n",
       "    'layer': 1},\n",
       "   'swir_2': {'path': 's3://dev-usgs-landsat/collection1/level2/albers/oli-tirs/2018/046/028/LC08_L1GT_046028_20180412_20180417_01_A2/LC08_L1GT_046028_20180412_20180417_01_A2_sr_band7.tif',\n",
       "    'layer': 1},\n",
       "   'coastal_aerosol': {'path': 's3://dev-usgs-landsat/collection1/level2/albers/oli-tirs/2018/046/028/LC08_L1GT_046028_20180412_20180417_01_A2/LC08_L1GT_046028_20180412_20180417_01_A2_sr_band1.tif',\n",
       "    'layer': 1},\n",
       "   'thermal_radiance': {'path': 's3://dev-usgs-landsat/collection1/level2/albers/oli-tirs/2018/046/028/LC08_L1GT_046028_20180412_20180417_01_A2/LC08_L1GT_046028_20180412_20180417_01_A2_st_thermal_radiance.tif',\n",
       "    'layer': 1},\n",
       "   'quality_l2_aerosol': {'path': 's3://dev-usgs-landsat/collection1/level2/albers/oli-tirs/2018/046/028/LC08_L1GT_046028_20180412_20180417_01_A2/LC08_L1GT_046028_20180412_20180417_01_A2_pixel_qa.tif',\n",
       "    'layer': 1}}},\n",
       " 'extent': {'coord': {'ll': {'lat': '44.542904', 'lon': '-124.519351'},\n",
       "   'lr': {'lat': '44.542904', 'lon': '-120.296895'},\n",
       "   'ul': {'lat': '47.502662', 'lon': '-124.519351'},\n",
       "   'ur': {'lat': '47.502662', 'lon': '-120.296895'}},\n",
       "  'to_dt': '2018-04-12 18:55:23.533301Z',\n",
       "  'from_dt': '2018-04-12 18:55:23.533301Z',\n",
       "  'center_dt': '2018-04-12 18:55:23.533301Z'},\n",
       " 'format': {'name': 'GeoTiff'},\n",
       " 'lineage': {'source_datasets': {}},\n",
       " 'platform': {'code': 'LANDSAT_8'},\n",
       " 'instrument': {'name': 'OLI_TIRS'},\n",
       " 'creation_dt': '2018-04-12',\n",
       " 'grid_spatial': {'projection': {'geo_ref_points': {'ll': {'x': -2151900.0,\n",
       "     'y': 2708700.0},\n",
       "    'lr': {'x': -1887300.0, 'y': 2708700.0},\n",
       "    'ul': {'x': -2151900.0, 'y': 2974800.0},\n",
       "    'ur': {'x': -1887300.0, 'y': 2974800.0}},\n",
       "   'spatial_reference': 'epsg:5072'}},\n",
       " 'product_type': 'c1l2scenealbers',\n",
       " 'processing_level': 'L1GT'}"
      ]
     },
     "execution_count": 9,
     "metadata": {},
     "output_type": "execute_result"
    }
   ],
   "source": [
    "ds[0].metadata_doc"
   ]
  },
  {
   "cell_type": "code",
   "execution_count": 10,
   "metadata": {},
   "outputs": [
    {
     "data": {
      "text/plain": [
       "170"
      ]
     },
     "execution_count": 10,
     "metadata": {},
     "output_type": "execute_result"
    }
   ],
   "source": [
    "len(ds)"
   ]
  },
  {
   "cell_type": "code",
   "execution_count": 11,
   "metadata": {},
   "outputs": [
    {
     "name": "stdout",
     "output_type": "stream",
     "text": [
      "Tue Feb  4 15:53:32 UTC 2020\r\n"
     ]
    }
   ],
   "source": [
    "! date"
   ]
  },
  {
   "cell_type": "code",
   "execution_count": null,
   "metadata": {},
   "outputs": [],
   "source": []
  }
 ],
 "metadata": {
  "kernelspec": {
   "display_name": "Python 3",
   "language": "python",
   "name": "python3"
  },
  "language_info": {
   "codemirror_mode": {
    "name": "ipython",
    "version": 3
   },
   "file_extension": ".py",
   "mimetype": "text/x-python",
   "name": "python",
   "nbconvert_exporter": "python",
   "pygments_lexer": "ipython3",
   "version": "3.6.8"
  }
 },
 "nbformat": 4,
 "nbformat_minor": 2
}
