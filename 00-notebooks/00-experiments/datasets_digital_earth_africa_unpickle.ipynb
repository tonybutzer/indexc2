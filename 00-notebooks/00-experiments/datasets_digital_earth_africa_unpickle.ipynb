{
 "cells": [
  {
   "cell_type": "markdown",
   "metadata": {},
   "source": [
    "# Visualize Africa with Kibana\n",
    "\n",
    "This notebook does the following\n",
    "\n",
    "1. Cheats by restoring a pickled index postgresdb\n",
    "    - did you know you can download files even big files with Jupyter\n",
    "    - Then uploaded the big pickle file\n",
    "    - 'datacube_datasets_pickle.p'\n",
    "    - 177666 records - wow!\n",
    "2. Then you can walk thru them ds[0] --> ds[n]\n",
    "3. Throw that as json at elastic search\n",
    "4. KIBANA -- Visualize and Discover Your Heart Out!\n",
    "    "
   ]
  },
  {
   "cell_type": "code",
   "execution_count": 1,
   "metadata": {},
   "outputs": [],
   "source": [
    "import pickle\n",
    "# open a file, where you stored the pickled data\n",
    "file = open('datacube_datasets_pickle.p', 'rb')  # came from my laptop - long time to upload\n",
    "\n",
    "# dump information to that file\n",
    "ds = pickle.load(file)\n",
    "\n",
    "# close the file\n",
    "file.close()"
   ]
  },
  {
   "cell_type": "code",
   "execution_count": 2,
   "metadata": {},
   "outputs": [
    {
     "data": {
      "text/plain": [
       "177666"
      ]
     },
     "execution_count": 2,
     "metadata": {},
     "output_type": "execute_result"
    }
   ],
   "source": [
    "len(ds)"
   ]
  },
  {
   "cell_type": "code",
   "execution_count": 3,
   "metadata": {},
   "outputs": [
    {
     "data": {
      "text/plain": [
       "list"
      ]
     },
     "execution_count": 3,
     "metadata": {},
     "output_type": "execute_result"
    }
   ],
   "source": [
    "type(ds)"
   ]
  },
  {
   "cell_type": "code",
   "execution_count": 4,
   "metadata": {},
   "outputs": [
    {
     "data": {
      "text/plain": [
       "Dataset <id=00d6a34e-280d-5758-80fd-d62a3f4b9a3a type=usgs_ls8c_level2_2 location=s3://deafrica-usgs-c2-data/usgs_ls8c_level2_2/169/059/2017/12/03/usgs_ls8c_level2_2-0-20190905_169059_2017-12-03.odc-metadata.yaml>"
      ]
     },
     "execution_count": 4,
     "metadata": {},
     "output_type": "execute_result"
    }
   ],
   "source": [
    "ds[0]"
   ]
  },
  {
   "cell_type": "code",
   "execution_count": 5,
   "metadata": {},
   "outputs": [
    {
     "data": {
      "text/plain": [
       "['__class__',\n",
       " '__delattr__',\n",
       " '__dict__',\n",
       " '__dir__',\n",
       " '__doc__',\n",
       " '__eq__',\n",
       " '__format__',\n",
       " '__ge__',\n",
       " '__getattribute__',\n",
       " '__gt__',\n",
       " '__hash__',\n",
       " '__init__',\n",
       " '__init_subclass__',\n",
       " '__le__',\n",
       " '__lt__',\n",
       " '__module__',\n",
       " '__ne__',\n",
       " '__new__',\n",
       " '__reduce__',\n",
       " '__reduce_ex__',\n",
       " '__repr__',\n",
       " '__setattr__',\n",
       " '__sizeof__',\n",
       " '__str__',\n",
       " '__subclasshook__',\n",
       " '__weakref__',\n",
       " '_gs',\n",
       " 'archived_time',\n",
       " 'bounds',\n",
       " 'center_time',\n",
       " 'crs',\n",
       " 'extent',\n",
       " 'format',\n",
       " 'id',\n",
       " 'indexed_by',\n",
       " 'indexed_time',\n",
       " 'is_active',\n",
       " 'is_archived',\n",
       " 'key_time',\n",
       " 'local_path',\n",
       " 'local_uri',\n",
       " 'managed',\n",
       " 'measurements',\n",
       " 'metadata',\n",
       " 'metadata_doc',\n",
       " 'metadata_doc_without_lineage',\n",
       " 'metadata_type',\n",
       " 'sources',\n",
       " 'time',\n",
       " 'transform',\n",
       " 'type',\n",
       " 'uri_scheme',\n",
       " 'uris']"
      ]
     },
     "execution_count": 5,
     "metadata": {},
     "output_type": "execute_result"
    }
   ],
   "source": [
    "dir(ds[0])"
   ]
  },
  {
   "cell_type": "code",
   "execution_count": 6,
   "metadata": {},
   "outputs": [
    {
     "data": {
      "text/plain": [
       "{'id': '00d6a34e-280d-5758-80fd-d62a3f4b9a3a',\n",
       " 'crs': 'epsg:32637',\n",
       " 'grids': {'default': {'shape': [7751, 7601],\n",
       "   'transform': [30.0, 0.0, 71385.0, 0.0, -30.0, 276015.0, 0.0, 0.0, 1.0]}},\n",
       " 'label': 'usgs_ls8c_level2_2-0-20190905_169059_2017-12-03',\n",
       " 'extent': {'lat': {'end': 2.4959339666277263, 'begin': 0.39252900869826096},\n",
       "  'lon': {'end': 37.19765037393791, 'begin': 35.14743976609986}},\n",
       " '$schema': 'https://schemas.opendatacube.org/dataset',\n",
       " 'lineage': {'source_datasets': {}},\n",
       " 'product': {'href': 'https://collections.dea.ga.gov.au/product/usgs_ls8c_level2_2',\n",
       "  'name': 'usgs_ls8c_level2_2'},\n",
       " 'geometry': {'type': 'Polygon',\n",
       "  'coordinates': [[[299415.0, 276015.0],\n",
       "    [71385.0, 276015.0],\n",
       "    [71385.0, 43485.0],\n",
       "    [299415.0, 43485.0],\n",
       "    [299415.0, 276015.0]]]},\n",
       " 'properties': {'eo:gsd': 30.0,\n",
       "  'datetime': '2017-12-03T07:48:42.907887',\n",
       "  'eo:platform': 'landsat-8',\n",
       "  'odc:producer': 'usgs.gov',\n",
       "  'eo:instrument': 'OLI_TIRS',\n",
       "  'eo:cloud_cover': 3.4,\n",
       "  'eo:sun_azimuth': 136.45877153,\n",
       "  'landsat:wrs_row': 59,\n",
       "  'odc:file_format': 'GeoTIFF',\n",
       "  'odc:region_code': '169059',\n",
       "  'eo:sun_elevation': 56.69549283,\n",
       "  'landsat:wrs_path': 169,\n",
       "  'landsat:station_id': 'LGN',\n",
       "  'odc:product_family': 'level2',\n",
       "  'odc:dataset_version': '2.0.20190905',\n",
       "  'odc:processing_datetime': '2019-09-05T16:15:34',\n",
       "  'landsat:landsat_scene_id': 'LC81690592017337LGN00',\n",
       "  'landsat:collection_number': 2,\n",
       "  'landsat:landsat_product_id': 'LC08_L1TP_169059_20171203_20190905_02_T1',\n",
       "  'landsat:geometric_rmse_verify': 2.102,\n",
       "  'landsat:geometric_rmse_model_x': 3.377,\n",
       "  'landsat:geometric_rmse_model_y': 3.843,\n",
       "  'landsat:ground_control_points_model': 780,\n",
       "  'landsat:processing_software_version': 'LPGS_Unknown',\n",
       "  'landsat:ground_control_points_verify': 200,\n",
       "  'landsat:ground_control_points_version': 51},\n",
       " 'accessories': {'checksum:sha1': {'path': 'usgs_ls8c_level2_2-0-20190905_169059_2017-12-03.sha1'},\n",
       "  'metadata:processor': {'path': 'usgs_ls8c_level2_2-0-20190905_169059_2017-12-03.proc-info.yaml'},\n",
       "  'metadata:landsat_mtl': {'path': 'LC08_L2SP_169059_20171203_20190905_02_T1_MTL.txt'}},\n",
       " 'grid_spatial': {'projection': {'valid_data': {'type': 'Polygon',\n",
       "    'coordinates': [[[299415.0, 276015.0],\n",
       "      [71385.0, 276015.0],\n",
       "      [71385.0, 43485.0],\n",
       "      [299415.0, 43485.0],\n",
       "      [299415.0, 276015.0]]]},\n",
       "   'geo_ref_points': {'ll': {'x': 71385.0, 'y': 43485.0},\n",
       "    'lr': {'x': 299415.0, 'y': 43485.0},\n",
       "    'ul': {'x': 71385.0, 'y': 276015.0},\n",
       "    'ur': {'x': 299415.0, 'y': 276015.0}},\n",
       "   'spatial_reference': 'epsg:32637'}},\n",
       " 'measurements': {'nir': {'path': 'usgs_ls8c_level2_2-0-20190905_169059_2017-12-03_sr-b5.tif'},\n",
       "  'red': {'path': 'usgs_ls8c_level2_2-0-20190905_169059_2017-12-03_sr-b4.tif'},\n",
       "  'blue': {'path': 'usgs_ls8c_level2_2-0-20190905_169059_2017-12-03_sr-b2.tif'},\n",
       "  'green': {'path': 'usgs_ls8c_level2_2-0-20190905_169059_2017-12-03_sr-b3.tif'},\n",
       "  'swir_1': {'path': 'usgs_ls8c_level2_2-0-20190905_169059_2017-12-03_sr-b6.tif'},\n",
       "  'swir_2': {'path': 'usgs_ls8c_level2_2-0-20190905_169059_2017-12-03_sr-b7.tif'},\n",
       "  'emissivity': {'path': 'usgs_ls8c_level2_2-0-20190905_169059_2017-12-03_emissivity.tif'},\n",
       "  'cloud_distance': {'path': 'usgs_ls8c_level2_2-0-20190905_169059_2017-12-03_cloud-distance.tif'},\n",
       "  'coastal_aerosol': {'path': 'usgs_ls8c_level2_2-0-20190905_169059_2017-12-03_sr-b1.tif'},\n",
       "  'upwell_radiance': {'path': 'usgs_ls8c_level2_2-0-20190905_169059_2017-12-03_upwell-radiance.tif'},\n",
       "  'emissivity_stdev': {'path': 'usgs_ls8c_level2_2-0-20190905_169059_2017-12-03_emissivity-stdev.tif'},\n",
       "  'quality_l1_pixel': {'path': 'usgs_ls8c_level2_2-0-20190905_169059_2017-12-03_quality-l1-pixel.tif'},\n",
       "  'thermal_radiance': {'path': 'usgs_ls8c_level2_2-0-20190905_169059_2017-12-03_thermal-radiance.tif'},\n",
       "  'downwell_radiance': {'path': 'usgs_ls8c_level2_2-0-20190905_169059_2017-12-03_downwell-radiance.tif'},\n",
       "  'quality_l2_aerosol': {'path': 'usgs_ls8c_level2_2-0-20190905_169059_2017-12-03_quality-l2-aerosol.tif'},\n",
       "  'surface_temperature': {'path': 'usgs_ls8c_level2_2-0-20190905_169059_2017-12-03_st-b10.tif'},\n",
       "  'atmospheric_transmittance': {'path': 'usgs_ls8c_level2_2-0-20190905_169059_2017-12-03_atmospheric-transmittance.tif'},\n",
       "  'quality_l2_surface_temperature': {'path': 'usgs_ls8c_level2_2-0-20190905_169059_2017-12-03_quality-l2-surface-temperature.tif'},\n",
       "  'quality_l1_radiometric_saturation': {'path': 'usgs_ls8c_level2_2-0-20190905_169059_2017-12-03_quality-l1-radiometric-saturation.tif'}}}"
      ]
     },
     "execution_count": 6,
     "metadata": {},
     "output_type": "execute_result"
    }
   ],
   "source": [
    "ds[0].metadata_doc"
   ]
  },
  {
   "cell_type": "code",
   "execution_count": 7,
   "metadata": {},
   "outputs": [
    {
     "data": {
      "text/plain": [
       "0.39252900869826096"
      ]
     },
     "execution_count": 7,
     "metadata": {},
     "output_type": "execute_result"
    }
   ],
   "source": [
    "ds[0].metadata_doc['extent']['lat']['begin']"
   ]
  },
  {
   "cell_type": "code",
   "execution_count": 8,
   "metadata": {},
   "outputs": [
    {
     "data": {
      "text/plain": [
       "35.14743976609986"
      ]
     },
     "execution_count": 8,
     "metadata": {},
     "output_type": "execute_result"
    }
   ],
   "source": [
    "ds[0].metadata_doc['extent']['lon']['begin']"
   ]
  },
  {
   "cell_type": "code",
   "execution_count": null,
   "metadata": {},
   "outputs": [],
   "source": []
  }
 ],
 "metadata": {
  "kernelspec": {
   "display_name": "Python 3",
   "language": "python",
   "name": "python3"
  },
  "language_info": {
   "codemirror_mode": {
    "name": "ipython",
    "version": 3
   },
   "file_extension": ".py",
   "mimetype": "text/x-python",
   "name": "python",
   "nbconvert_exporter": "python",
   "pygments_lexer": "ipython3",
   "version": "3.6.8"
  }
 },
 "nbformat": 4,
 "nbformat_minor": 2
}
