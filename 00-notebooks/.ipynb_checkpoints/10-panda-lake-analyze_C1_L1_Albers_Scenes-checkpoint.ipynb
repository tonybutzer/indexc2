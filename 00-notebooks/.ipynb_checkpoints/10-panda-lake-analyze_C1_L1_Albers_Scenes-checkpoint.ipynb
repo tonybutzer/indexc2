{
 "cells": [
  {
   "cell_type": "markdown",
   "metadata": {},
   "source": [
    "# 10-panda-lake-analyze\n"
   ]
  },
  {
   "cell_type": "markdown",
   "metadata": {},
   "source": [
    "![panda logo](https://ih0.redbubble.net/image.705661821.0599/flat,750x,075,f-pad,750x1000,f8f8f8.u7.jpg)"
   ]
  },
  {
   "cell_type": "code",
   "execution_count": 2,
   "metadata": {},
   "outputs": [
    {
     "name": "stdout",
     "output_type": "stream",
     "text": [
      "dev-usgs-landsat-2013.csv  dev-usgs-landsat-2016.csv  dev-usgs-landsat-2019.csv\r\n",
      "dev-usgs-landsat-2014.csv  dev-usgs-landsat-2017.csv  dev-usgs-landsat-2020.csv\r\n",
      "dev-usgs-landsat-2015.csv  dev-usgs-landsat-2018.csv\r\n"
     ]
    }
   ],
   "source": [
    "! ls ../prepare/analysis"
   ]
  },
  {
   "cell_type": "code",
   "execution_count": 3,
   "metadata": {},
   "outputs": [],
   "source": [
    "import pandas"
   ]
  },
  {
   "cell_type": "code",
   "execution_count": null,
   "metadata": {},
   "outputs": [],
   "source": []
  }
 ],
 "metadata": {
  "kernelspec": {
   "display_name": "Python 3",
   "language": "python",
   "name": "python3"
  },
  "language_info": {
   "codemirror_mode": {
    "name": "ipython",
    "version": 3
   },
   "file_extension": ".py",
   "mimetype": "text/x-python",
   "name": "python",
   "nbconvert_exporter": "python",
   "pygments_lexer": "ipython3",
   "version": "3.6.8"
  }
 },
 "nbformat": 4,
 "nbformat_minor": 2
}
