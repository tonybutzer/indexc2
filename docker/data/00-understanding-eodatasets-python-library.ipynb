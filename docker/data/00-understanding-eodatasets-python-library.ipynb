{
 "cells": [
  {
   "cell_type": "markdown",
   "metadata": {},
   "source": [
    "# eodatasets\n",
    "\n",
    "```\n",
    "import eodatasets\n",
    "\n",
    "print(help(eodatasets.assembe))\n",
    "```"
   ]
  },
  {
   "cell_type": "markdown",
   "metadata": {},
   "source": [
    "## Reference\n",
    "\n",
    "\n",
    "/opt/indexc2/prepare\n",
    "landsat_l2_prepare.py\n",
    "\n",
    "\n",
    "\n"
   ]
  },
  {
   "cell_type": "code",
   "execution_count": 1,
   "metadata": {},
   "outputs": [],
   "source": [
    "! mkdir ./output"
   ]
  },
  {
   "cell_type": "code",
   "execution_count": 2,
   "metadata": {},
   "outputs": [
    {
     "name": "stdout",
     "output_type": "stream",
     "text": [
      "total 56\r\n",
      "-rw-r--r-- 1 jovyan users   972 Nov 25 20:32 00-understanding-eodatasets-python-library.ipynb\r\n",
      "-rw-rw-r-- 1 jovyan  1000  8027 Nov 25 20:03 Untitled.ipynb\r\n",
      "-rw-r--r-- 1 jovyan users 39326 Nov 25 20:24 Untitled1.ipynb\r\n",
      "drwxr-xr-x 2 jovyan users  4096 Nov 25 20:40 output\r\n"
     ]
    }
   ],
   "source": [
    "! ls -l"
   ]
  },
  {
   "cell_type": "code",
   "execution_count": 3,
   "metadata": {},
   "outputs": [],
   "source": [
    "from eodatasets3.ui import PathPath"
   ]
  },
  {
   "cell_type": "code",
   "execution_count": 4,
   "metadata": {},
   "outputs": [
    {
     "name": "stdout",
     "output_type": "stream",
     "text": [
      "Help on class PathPath in module eodatasets3.ui:\n",
      "\n",
      "class PathPath(click.types.Path)\n",
      " |  A Click path argument that returns a pathlib Path, not a string\n",
      " |  \n",
      " |  Method resolution order:\n",
      " |      PathPath\n",
      " |      click.types.Path\n",
      " |      click.types.ParamType\n",
      " |      builtins.object\n",
      " |  \n",
      " |  Methods defined here:\n",
      " |  \n",
      " |  convert(self, value, param, ctx)\n",
      " |      Converts the value.  This is not invoked for values that are\n",
      " |      `None` (the missing value).\n",
      " |  \n",
      " |  ----------------------------------------------------------------------\n",
      " |  Methods inherited from click.types.Path:\n",
      " |  \n",
      " |  __init__(self, exists=False, file_okay=True, dir_okay=True, writable=False, readable=True, resolve_path=False, allow_dash=False, path_type=None)\n",
      " |      Initialize self.  See help(type(self)) for accurate signature.\n",
      " |  \n",
      " |  coerce_path_result(self, rv)\n",
      " |  \n",
      " |  ----------------------------------------------------------------------\n",
      " |  Data and other attributes inherited from click.types.Path:\n",
      " |  \n",
      " |  envvar_list_splitter = ':'\n",
      " |  \n",
      " |  ----------------------------------------------------------------------\n",
      " |  Methods inherited from click.types.ParamType:\n",
      " |  \n",
      " |  __call__(self, value, param=None, ctx=None)\n",
      " |      Call self as a function.\n",
      " |  \n",
      " |  fail(self, message, param=None, ctx=None)\n",
      " |      Helper method to fail with an invalid value message.\n",
      " |  \n",
      " |  get_metavar(self, param)\n",
      " |      Returns the metavar default for this param if it provides one.\n",
      " |  \n",
      " |  get_missing_message(self, param)\n",
      " |      Optionally might return extra information about a missing\n",
      " |      parameter.\n",
      " |      \n",
      " |      .. versionadded:: 2.0\n",
      " |  \n",
      " |  split_envvar_value(self, rv)\n",
      " |      Given a value from an environment variable this splits it up\n",
      " |      into small chunks depending on the defined envvar list splitter.\n",
      " |      \n",
      " |      If the splitter is set to `None`, which means that whitespace splits,\n",
      " |      then leading and trailing whitespace is ignored.  Otherwise, leading\n",
      " |      and trailing splitters usually lead to empty items being included.\n",
      " |  \n",
      " |  ----------------------------------------------------------------------\n",
      " |  Data descriptors inherited from click.types.ParamType:\n",
      " |  \n",
      " |  __dict__\n",
      " |      dictionary for instance variables (if defined)\n",
      " |  \n",
      " |  __weakref__\n",
      " |      list of weak references to the object (if defined)\n",
      " |  \n",
      " |  ----------------------------------------------------------------------\n",
      " |  Data and other attributes inherited from click.types.ParamType:\n",
      " |  \n",
      " |  is_composite = False\n",
      " |  \n",
      " |  name = None\n",
      "\n"
     ]
    }
   ],
   "source": [
    "help(PathPath)"
   ]
  },
  {
   "cell_type": "markdown",
   "metadata": {},
   "source": [
    "# Nothing is simple\n",
    "- always another class to learn\n",
    "- enter pathlib Path\n",
    "\n",
    "## Reference\n",
    "https://realpython.com/python-pathlib/"
   ]
  },
  {
   "cell_type": "code",
   "execution_count": 5,
   "metadata": {},
   "outputs": [],
   "source": [
    "import pathlib"
   ]
  },
  {
   "cell_type": "code",
   "execution_count": 6,
   "metadata": {},
   "outputs": [
    {
     "data": {
      "text/plain": [
       "PosixPath('/notebooks')"
      ]
     },
     "execution_count": 6,
     "metadata": {},
     "output_type": "execute_result"
    }
   ],
   "source": [
    "pathlib.Path.home()"
   ]
  },
  {
   "cell_type": "code",
   "execution_count": null,
   "metadata": {},
   "outputs": [],
   "source": []
  }
 ],
 "metadata": {
  "kernelspec": {
   "display_name": "Python 3",
   "language": "python",
   "name": "python3"
  },
  "language_info": {
   "codemirror_mode": {
    "name": "ipython",
    "version": 3
   },
   "file_extension": ".py",
   "mimetype": "text/x-python",
   "name": "python",
   "nbconvert_exporter": "python",
   "pygments_lexer": "ipython3",
   "version": "3.6.8"
  }
 },
 "nbformat": 4,
 "nbformat_minor": 2
}
