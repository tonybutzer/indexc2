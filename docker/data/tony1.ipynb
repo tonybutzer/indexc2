{
 "cells": [
  {
   "cell_type": "code",
   "execution_count": 1,
   "metadata": {},
   "outputs": [],
   "source": [
    "import datacube\n"
   ]
  },
  {
   "cell_type": "code",
   "execution_count": 3,
   "metadata": {},
   "outputs": [],
   "source": [
    "dc = datacube.Datacube()\n",
    "ds = dc.find_datasets(product= \"c2l2tony\")"
   ]
  },
  {
   "cell_type": "code",
   "execution_count": 4,
   "metadata": {},
   "outputs": [
    {
     "data": {
      "text/plain": [
       "23"
      ]
     },
     "execution_count": 4,
     "metadata": {},
     "output_type": "execute_result"
    }
   ],
   "source": [
    "len(ds)"
   ]
  },
  {
   "cell_type": "code",
   "execution_count": 7,
   "metadata": {},
   "outputs": [
    {
     "name": "stderr",
     "output_type": "stream",
     "text": [
      "Error opening source dataset: s3://ga-africa-provisional/nigeria-2018-08-21/collection2/level2/standard/oli-tirs/2018/190/056/LC08_L2SP_190056_20180107_20190821_02_T1LC08_L2SP_190056_20180107_20190821_02_T1_SR_B1.TIF\n"
     ]
    },
    {
     "ename": "RasterioIOError",
     "evalue": "'/vsis3/ga-africa-provisional/nigeria-2018-08-21/collection2/level2/standard/oli-tirs/2018/190/056/LC08_L2SP_190056_20180107_20190821_02_T1LC08_L2SP_190056_20180107_20190821_02_T1_SR_B1.TIF' does not exist in the file system, and is not recognized as a supported dataset name.",
     "output_type": "error",
     "traceback": [
      "\u001b[0;31m---------------------------------------------------------------------------\u001b[0m",
      "\u001b[0;31mCPLE_OpenFailedError\u001b[0m                      Traceback (most recent call last)",
      "\u001b[0;32mrasterio/_base.pyx\u001b[0m in \u001b[0;36mrasterio._base.DatasetBase.__init__\u001b[0;34m()\u001b[0m\n",
      "\u001b[0;32mrasterio/_shim.pyx\u001b[0m in \u001b[0;36mrasterio._shim.open_dataset\u001b[0;34m()\u001b[0m\n",
      "\u001b[0;32mrasterio/_err.pyx\u001b[0m in \u001b[0;36mrasterio._err.exc_wrap_pointer\u001b[0;34m()\u001b[0m\n",
      "\u001b[0;31mCPLE_OpenFailedError\u001b[0m: '/vsis3/ga-africa-provisional/nigeria-2018-08-21/collection2/level2/standard/oli-tirs/2018/190/056/LC08_L2SP_190056_20180107_20190821_02_T1LC08_L2SP_190056_20180107_20190821_02_T1_SR_B1.TIF' does not exist in the file system, and is not recognized as a supported dataset name.",
      "\nDuring handling of the above exception, another exception occurred:\n",
      "\u001b[0;31mRasterioIOError\u001b[0m                           Traceback (most recent call last)",
      "\u001b[0;32m<ipython-input-7-6fbf7d9117ac>\u001b[0m in \u001b[0;36m<module>\u001b[0;34m\u001b[0m\n\u001b[1;32m     11\u001b[0m                 \u001b[0mmeasurements\u001b[0m\u001b[0;34m=\u001b[0m\u001b[0mmeas\u001b[0m\u001b[0;34m,\u001b[0m\u001b[0;34m\u001b[0m\u001b[0;34m\u001b[0m\u001b[0m\n\u001b[1;32m     12\u001b[0m                 \u001b[0moutput_crs\u001b[0m\u001b[0;34m=\u001b[0m\u001b[0;34m'epsg:'\u001b[0m \u001b[0;34m+\u001b[0m \u001b[0mEPSG\u001b[0m\u001b[0;34m,\u001b[0m\u001b[0;34m\u001b[0m\u001b[0;34m\u001b[0m\u001b[0m\n\u001b[0;32m---> 13\u001b[0;31m                 \u001b[0mresolution\u001b[0m\u001b[0;34m=\u001b[0m\u001b[0;34m(\u001b[0m\u001b[0;34m-\u001b[0m\u001b[0;36m30\u001b[0m\u001b[0;34m,\u001b[0m \u001b[0;36m30\u001b[0m\u001b[0;34m)\u001b[0m\u001b[0;34m,\u001b[0m\u001b[0;34m\u001b[0m\u001b[0;34m\u001b[0m\u001b[0m\n\u001b[0m\u001b[1;32m     14\u001b[0m              )\n",
      "\u001b[0;32m/usr/local/lib/python3.6/dist-packages/datacube-1.7+121.g9db718ff.dirty-py3.6.egg/datacube/api/core.py\u001b[0m in \u001b[0;36mload\u001b[0;34m(self, product, measurements, output_crs, resolution, resampling, skip_broken_datasets, dask_chunks, like, fuse_func, align, datasets, progress_cbk, **query)\u001b[0m\n\u001b[1;32m    314\u001b[0m                                 \u001b[0mskip_broken_datasets\u001b[0m\u001b[0;34m=\u001b[0m\u001b[0mskip_broken_datasets\u001b[0m\u001b[0;34m,\u001b[0m\u001b[0;34m\u001b[0m\u001b[0;34m\u001b[0m\u001b[0m\n\u001b[1;32m    315\u001b[0m                                 \u001b[0mprogress_cbk\u001b[0m\u001b[0;34m=\u001b[0m\u001b[0mprogress_cbk\u001b[0m\u001b[0;34m,\u001b[0m\u001b[0;34m\u001b[0m\u001b[0;34m\u001b[0m\u001b[0m\n\u001b[0;32m--> 316\u001b[0;31m                                 **legacy_args)\n\u001b[0m\u001b[1;32m    317\u001b[0m \u001b[0;34m\u001b[0m\u001b[0m\n\u001b[1;32m    318\u001b[0m         \u001b[0;32mreturn\u001b[0m \u001b[0mapply_aliases\u001b[0m\u001b[0;34m(\u001b[0m\u001b[0mresult\u001b[0m\u001b[0;34m,\u001b[0m \u001b[0mdatacube_product\u001b[0m\u001b[0;34m,\u001b[0m \u001b[0mmeasurements\u001b[0m\u001b[0;34m)\u001b[0m\u001b[0;34m\u001b[0m\u001b[0;34m\u001b[0m\u001b[0m\n",
      "\u001b[0;32m/usr/local/lib/python3.6/dist-packages/datacube-1.7+121.g9db718ff.dirty-py3.6.egg/datacube/api/core.py\u001b[0m in \u001b[0;36mload_data\u001b[0;34m(sources, geobox, measurements, resampling, fuse_func, dask_chunks, skip_broken_datasets, progress_cbk, **extra)\u001b[0m\n\u001b[1;32m    583\u001b[0m             return Datacube._xr_load(sources, geobox, measurements,\n\u001b[1;32m    584\u001b[0m                                      \u001b[0mskip_broken_datasets\u001b[0m\u001b[0;34m=\u001b[0m\u001b[0mskip_broken_datasets\u001b[0m\u001b[0;34m,\u001b[0m\u001b[0;34m\u001b[0m\u001b[0;34m\u001b[0m\u001b[0m\n\u001b[0;32m--> 585\u001b[0;31m                                      progress_cbk=progress_cbk)\n\u001b[0m\u001b[1;32m    586\u001b[0m \u001b[0;34m\u001b[0m\u001b[0m\n\u001b[1;32m    587\u001b[0m     \u001b[0;34m@\u001b[0m\u001b[0mstaticmethod\u001b[0m\u001b[0;34m\u001b[0m\u001b[0;34m\u001b[0m\u001b[0m\n",
      "\u001b[0;32m/usr/local/lib/python3.6/dist-packages/datacube-1.7+121.g9db718ff.dirty-py3.6.egg/datacube/api/core.py\u001b[0m in \u001b[0;36m_xr_load\u001b[0;34m(sources, geobox, measurements, skip_broken_datasets, progress_cbk)\u001b[0m\n\u001b[1;32m    513\u001b[0m                     _fuse_measurement(t_slice, datasets, geobox, m,\n\u001b[1;32m    514\u001b[0m                                       \u001b[0mskip_broken_datasets\u001b[0m\u001b[0;34m=\u001b[0m\u001b[0mskip_broken_datasets\u001b[0m\u001b[0;34m,\u001b[0m\u001b[0;34m\u001b[0m\u001b[0;34m\u001b[0m\u001b[0m\n\u001b[0;32m--> 515\u001b[0;31m                                       progress_cbk=_cbk)\n\u001b[0m\u001b[1;32m    516\u001b[0m                 \u001b[0;32mexcept\u001b[0m \u001b[0;34m(\u001b[0m\u001b[0mTerminateCurrentLoad\u001b[0m\u001b[0;34m,\u001b[0m \u001b[0mKeyboardInterrupt\u001b[0m\u001b[0;34m)\u001b[0m\u001b[0;34m:\u001b[0m\u001b[0;34m\u001b[0m\u001b[0;34m\u001b[0m\u001b[0m\n\u001b[1;32m    517\u001b[0m                     \u001b[0mdata\u001b[0m\u001b[0;34m.\u001b[0m\u001b[0mattrs\u001b[0m\u001b[0;34m[\u001b[0m\u001b[0;34m'dc_partial_load'\u001b[0m\u001b[0;34m]\u001b[0m \u001b[0;34m=\u001b[0m \u001b[0;32mTrue\u001b[0m\u001b[0;34m\u001b[0m\u001b[0;34m\u001b[0m\u001b[0m\n",
      "\u001b[0;32m/usr/local/lib/python3.6/dist-packages/datacube-1.7+121.g9db718ff.dirty-py3.6.egg/datacube/api/core.py\u001b[0m in \u001b[0;36m_fuse_measurement\u001b[0;34m(dest, datasets, geobox, measurement, skip_broken_datasets, progress_cbk)\u001b[0m\n\u001b[1;32m    737\u001b[0m                        \u001b[0mfuse_func\u001b[0m\u001b[0;34m=\u001b[0m\u001b[0mmeasurement\u001b[0m\u001b[0;34m.\u001b[0m\u001b[0mget\u001b[0m\u001b[0;34m(\u001b[0m\u001b[0;34m'fuser'\u001b[0m\u001b[0;34m,\u001b[0m \u001b[0;32mNone\u001b[0m\u001b[0;34m)\u001b[0m\u001b[0;34m,\u001b[0m\u001b[0;34m\u001b[0m\u001b[0;34m\u001b[0m\u001b[0m\n\u001b[1;32m    738\u001b[0m                        \u001b[0mskip_broken_datasets\u001b[0m\u001b[0;34m=\u001b[0m\u001b[0mskip_broken_datasets\u001b[0m\u001b[0;34m,\u001b[0m\u001b[0;34m\u001b[0m\u001b[0;34m\u001b[0m\u001b[0m\n\u001b[0;32m--> 739\u001b[0;31m                        progress_cbk=progress_cbk)\n\u001b[0m\u001b[1;32m    740\u001b[0m \u001b[0;34m\u001b[0m\u001b[0m\n\u001b[1;32m    741\u001b[0m \u001b[0;34m\u001b[0m\u001b[0m\n",
      "\u001b[0;32m/usr/local/lib/python3.6/dist-packages/datacube-1.7+121.g9db718ff.dirty-py3.6.egg/datacube/storage/_load.py\u001b[0m in \u001b[0;36mreproject_and_fuse\u001b[0;34m(datasources, destination, dst_gbox, dst_nodata, resampling, fuse_func, skip_broken_datasets, progress_cbk)\u001b[0m\n\u001b[1;32m     69\u001b[0m     \u001b[0;32melif\u001b[0m \u001b[0mlen\u001b[0m\u001b[0;34m(\u001b[0m\u001b[0mdatasources\u001b[0m\u001b[0;34m)\u001b[0m \u001b[0;34m==\u001b[0m \u001b[0;36m1\u001b[0m\u001b[0;34m:\u001b[0m\u001b[0;34m\u001b[0m\u001b[0;34m\u001b[0m\u001b[0m\n\u001b[1;32m     70\u001b[0m         \u001b[0;32mwith\u001b[0m \u001b[0mignore_exceptions_if\u001b[0m\u001b[0;34m(\u001b[0m\u001b[0mskip_broken_datasets\u001b[0m\u001b[0;34m)\u001b[0m\u001b[0;34m:\u001b[0m\u001b[0;34m\u001b[0m\u001b[0;34m\u001b[0m\u001b[0m\n\u001b[0;32m---> 71\u001b[0;31m             \u001b[0;32mwith\u001b[0m \u001b[0mdatasources\u001b[0m\u001b[0;34m[\u001b[0m\u001b[0;36m0\u001b[0m\u001b[0;34m]\u001b[0m\u001b[0;34m.\u001b[0m\u001b[0mopen\u001b[0m\u001b[0;34m(\u001b[0m\u001b[0;34m)\u001b[0m \u001b[0;32mas\u001b[0m \u001b[0mrdr\u001b[0m\u001b[0;34m:\u001b[0m\u001b[0;34m\u001b[0m\u001b[0;34m\u001b[0m\u001b[0m\n\u001b[0m\u001b[1;32m     72\u001b[0m                 \u001b[0mread_time_slice\u001b[0m\u001b[0;34m(\u001b[0m\u001b[0mrdr\u001b[0m\u001b[0;34m,\u001b[0m \u001b[0mdestination\u001b[0m\u001b[0;34m,\u001b[0m \u001b[0mdst_gbox\u001b[0m\u001b[0;34m,\u001b[0m \u001b[0mresampling\u001b[0m\u001b[0;34m,\u001b[0m \u001b[0mdst_nodata\u001b[0m\u001b[0;34m)\u001b[0m\u001b[0;34m\u001b[0m\u001b[0;34m\u001b[0m\u001b[0m\n\u001b[1;32m     73\u001b[0m \u001b[0;34m\u001b[0m\u001b[0m\n",
      "\u001b[0;32m/usr/lib/python3.6/contextlib.py\u001b[0m in \u001b[0;36m__enter__\u001b[0;34m(self)\u001b[0m\n\u001b[1;32m     79\u001b[0m     \u001b[0;32mdef\u001b[0m \u001b[0m__enter__\u001b[0m\u001b[0;34m(\u001b[0m\u001b[0mself\u001b[0m\u001b[0;34m)\u001b[0m\u001b[0;34m:\u001b[0m\u001b[0;34m\u001b[0m\u001b[0;34m\u001b[0m\u001b[0m\n\u001b[1;32m     80\u001b[0m         \u001b[0;32mtry\u001b[0m\u001b[0;34m:\u001b[0m\u001b[0;34m\u001b[0m\u001b[0;34m\u001b[0m\u001b[0m\n\u001b[0;32m---> 81\u001b[0;31m             \u001b[0;32mreturn\u001b[0m \u001b[0mnext\u001b[0m\u001b[0;34m(\u001b[0m\u001b[0mself\u001b[0m\u001b[0;34m.\u001b[0m\u001b[0mgen\u001b[0m\u001b[0;34m)\u001b[0m\u001b[0;34m\u001b[0m\u001b[0;34m\u001b[0m\u001b[0m\n\u001b[0m\u001b[1;32m     82\u001b[0m         \u001b[0;32mexcept\u001b[0m \u001b[0mStopIteration\u001b[0m\u001b[0;34m:\u001b[0m\u001b[0;34m\u001b[0m\u001b[0;34m\u001b[0m\u001b[0m\n\u001b[1;32m     83\u001b[0m             \u001b[0;32mraise\u001b[0m \u001b[0mRuntimeError\u001b[0m\u001b[0;34m(\u001b[0m\u001b[0;34m\"generator didn't yield\"\u001b[0m\u001b[0;34m)\u001b[0m \u001b[0;32mfrom\u001b[0m \u001b[0;32mNone\u001b[0m\u001b[0;34m\u001b[0m\u001b[0;34m\u001b[0m\u001b[0m\n",
      "\u001b[0;32m/usr/local/lib/python3.6/dist-packages/datacube-1.7+121.g9db718ff.dirty-py3.6.egg/datacube/storage/_rio.py\u001b[0m in \u001b[0;36mopen\u001b[0;34m(self)\u001b[0m\n\u001b[1;32m    199\u001b[0m         \u001b[0;32mexcept\u001b[0m \u001b[0mException\u001b[0m \u001b[0;32mas\u001b[0m \u001b[0me\u001b[0m\u001b[0;34m:\u001b[0m\u001b[0;34m\u001b[0m\u001b[0;34m\u001b[0m\u001b[0m\n\u001b[1;32m    200\u001b[0m             \u001b[0m_LOG\u001b[0m\u001b[0;34m.\u001b[0m\u001b[0merror\u001b[0m\u001b[0;34m(\u001b[0m\u001b[0;34m\"Error opening source dataset: %s\"\u001b[0m\u001b[0;34m,\u001b[0m \u001b[0mself\u001b[0m\u001b[0;34m.\u001b[0m\u001b[0mfilename\u001b[0m\u001b[0;34m)\u001b[0m\u001b[0;34m\u001b[0m\u001b[0;34m\u001b[0m\u001b[0m\n\u001b[0;32m--> 201\u001b[0;31m             \u001b[0;32mraise\u001b[0m \u001b[0me\u001b[0m\u001b[0;34m\u001b[0m\u001b[0;34m\u001b[0m\u001b[0m\n\u001b[0m\u001b[1;32m    202\u001b[0m         \u001b[0;32mfinally\u001b[0m\u001b[0;34m:\u001b[0m\u001b[0;34m\u001b[0m\u001b[0;34m\u001b[0m\u001b[0m\n\u001b[1;32m    203\u001b[0m             \u001b[0;32mif\u001b[0m \u001b[0mlocked\u001b[0m\u001b[0;34m:\u001b[0m\u001b[0;34m\u001b[0m\u001b[0;34m\u001b[0m\u001b[0m\n",
      "\u001b[0;32m/usr/local/lib/python3.6/dist-packages/datacube-1.7+121.g9db718ff.dirty-py3.6.egg/datacube/storage/_rio.py\u001b[0m in \u001b[0;36mopen\u001b[0;34m(self)\u001b[0m\n\u001b[1;32m    165\u001b[0m         \u001b[0;32mtry\u001b[0m\u001b[0;34m:\u001b[0m\u001b[0;34m\u001b[0m\u001b[0;34m\u001b[0m\u001b[0m\n\u001b[1;32m    166\u001b[0m             \u001b[0m_LOG\u001b[0m\u001b[0;34m.\u001b[0m\u001b[0mdebug\u001b[0m\u001b[0;34m(\u001b[0m\u001b[0;34m\"opening %s\"\u001b[0m\u001b[0;34m,\u001b[0m \u001b[0mself\u001b[0m\u001b[0;34m.\u001b[0m\u001b[0mfilename\u001b[0m\u001b[0;34m)\u001b[0m\u001b[0;34m\u001b[0m\u001b[0;34m\u001b[0m\u001b[0m\n\u001b[0;32m--> 167\u001b[0;31m             \u001b[0;32mwith\u001b[0m \u001b[0mrasterio\u001b[0m\u001b[0;34m.\u001b[0m\u001b[0mopen\u001b[0m\u001b[0;34m(\u001b[0m\u001b[0mself\u001b[0m\u001b[0;34m.\u001b[0m\u001b[0mfilename\u001b[0m\u001b[0;34m,\u001b[0m \u001b[0msharing\u001b[0m\u001b[0;34m=\u001b[0m\u001b[0;32mFalse\u001b[0m\u001b[0;34m)\u001b[0m \u001b[0;32mas\u001b[0m \u001b[0msrc\u001b[0m\u001b[0;34m:\u001b[0m\u001b[0;34m\u001b[0m\u001b[0;34m\u001b[0m\u001b[0m\n\u001b[0m\u001b[1;32m    168\u001b[0m                 \u001b[0moverride\u001b[0m \u001b[0;34m=\u001b[0m \u001b[0;32mFalse\u001b[0m\u001b[0;34m\u001b[0m\u001b[0;34m\u001b[0m\u001b[0m\n\u001b[1;32m    169\u001b[0m \u001b[0;34m\u001b[0m\u001b[0m\n",
      "\u001b[0;32m/usr/local/lib/python3.6/dist-packages/rasterio/env.py\u001b[0m in \u001b[0;36mwrapper\u001b[0;34m(*args, **kwds)\u001b[0m\n\u001b[1;32m    428\u001b[0m \u001b[0;34m\u001b[0m\u001b[0m\n\u001b[1;32m    429\u001b[0m         \u001b[0;32mwith\u001b[0m \u001b[0menv_ctor\u001b[0m\u001b[0;34m(\u001b[0m\u001b[0msession\u001b[0m\u001b[0;34m=\u001b[0m\u001b[0msession\u001b[0m\u001b[0;34m)\u001b[0m\u001b[0;34m:\u001b[0m\u001b[0;34m\u001b[0m\u001b[0;34m\u001b[0m\u001b[0m\n\u001b[0;32m--> 430\u001b[0;31m             \u001b[0;32mreturn\u001b[0m \u001b[0mf\u001b[0m\u001b[0;34m(\u001b[0m\u001b[0;34m*\u001b[0m\u001b[0margs\u001b[0m\u001b[0;34m,\u001b[0m \u001b[0;34m**\u001b[0m\u001b[0mkwds\u001b[0m\u001b[0;34m)\u001b[0m\u001b[0;34m\u001b[0m\u001b[0;34m\u001b[0m\u001b[0m\n\u001b[0m\u001b[1;32m    431\u001b[0m \u001b[0;34m\u001b[0m\u001b[0m\n\u001b[1;32m    432\u001b[0m     \u001b[0;32mreturn\u001b[0m \u001b[0mwrapper\u001b[0m\u001b[0;34m\u001b[0m\u001b[0;34m\u001b[0m\u001b[0m\n",
      "\u001b[0;32m/usr/local/lib/python3.6/dist-packages/rasterio/__init__.py\u001b[0m in \u001b[0;36mopen\u001b[0;34m(fp, mode, driver, width, height, count, crs, transform, dtype, nodata, sharing, **kwargs)\u001b[0m\n\u001b[1;32m    214\u001b[0m         \u001b[0;31m# None.\u001b[0m\u001b[0;34m\u001b[0m\u001b[0;34m\u001b[0m\u001b[0;34m\u001b[0m\u001b[0m\n\u001b[1;32m    215\u001b[0m         \u001b[0;32mif\u001b[0m \u001b[0mmode\u001b[0m \u001b[0;34m==\u001b[0m \u001b[0;34m'r'\u001b[0m\u001b[0;34m:\u001b[0m\u001b[0;34m\u001b[0m\u001b[0;34m\u001b[0m\u001b[0m\n\u001b[0;32m--> 216\u001b[0;31m             \u001b[0ms\u001b[0m \u001b[0;34m=\u001b[0m \u001b[0mDatasetReader\u001b[0m\u001b[0;34m(\u001b[0m\u001b[0mpath\u001b[0m\u001b[0;34m,\u001b[0m \u001b[0mdriver\u001b[0m\u001b[0;34m=\u001b[0m\u001b[0mdriver\u001b[0m\u001b[0;34m,\u001b[0m \u001b[0msharing\u001b[0m\u001b[0;34m=\u001b[0m\u001b[0msharing\u001b[0m\u001b[0;34m,\u001b[0m \u001b[0;34m**\u001b[0m\u001b[0mkwargs\u001b[0m\u001b[0;34m)\u001b[0m\u001b[0;34m\u001b[0m\u001b[0;34m\u001b[0m\u001b[0m\n\u001b[0m\u001b[1;32m    217\u001b[0m         \u001b[0;32melif\u001b[0m \u001b[0mmode\u001b[0m \u001b[0;34m==\u001b[0m \u001b[0;34m'r+'\u001b[0m\u001b[0;34m:\u001b[0m\u001b[0;34m\u001b[0m\u001b[0;34m\u001b[0m\u001b[0m\n\u001b[1;32m    218\u001b[0m             \u001b[0ms\u001b[0m \u001b[0;34m=\u001b[0m \u001b[0mget_writer_for_path\u001b[0m\u001b[0;34m(\u001b[0m\u001b[0mpath\u001b[0m\u001b[0;34m)\u001b[0m\u001b[0;34m(\u001b[0m\u001b[0mpath\u001b[0m\u001b[0;34m,\u001b[0m \u001b[0mmode\u001b[0m\u001b[0;34m,\u001b[0m \u001b[0mdriver\u001b[0m\u001b[0;34m=\u001b[0m\u001b[0mdriver\u001b[0m\u001b[0;34m,\u001b[0m \u001b[0msharing\u001b[0m\u001b[0;34m=\u001b[0m\u001b[0msharing\u001b[0m\u001b[0;34m,\u001b[0m \u001b[0;34m**\u001b[0m\u001b[0mkwargs\u001b[0m\u001b[0;34m)\u001b[0m\u001b[0;34m\u001b[0m\u001b[0;34m\u001b[0m\u001b[0m\n",
      "\u001b[0;32mrasterio/_base.pyx\u001b[0m in \u001b[0;36mrasterio._base.DatasetBase.__init__\u001b[0;34m()\u001b[0m\n",
      "\u001b[0;31mRasterioIOError\u001b[0m: '/vsis3/ga-africa-provisional/nigeria-2018-08-21/collection2/level2/standard/oli-tirs/2018/190/056/LC08_L2SP_190056_20180107_20190821_02_T1LC08_L2SP_190056_20180107_20190821_02_T1_SR_B1.TIF' does not exist in the file system, and is not recognized as a supported dataset name."
     ]
    }
   ],
   "source": [
    "EPSG='32631'\n",
    "meas=['coastal_aerosol', \n",
    "    'blue',                              \n",
    "    'green',                            \n",
    "    'red',                                \n",
    "    'nir',                              \n",
    "    'swir_1',                             \n",
    "    'swir_2',                             \n",
    "    'quality_l2_aerosol']  \n",
    "ds2 = dc.load(product=\"c2l2tony\", datasets=ds, \n",
    "                measurements=meas, \n",
    "                output_crs='epsg:' + EPSG,\n",
    "                resolution=(-30, 30),\n",
    "             )"
   ]
  },
  {
   "cell_type": "code",
   "execution_count": 8,
   "metadata": {},
   "outputs": [
    {
     "name": "stdout",
     "output_type": "stream",
     "text": [
      "2019-09-02 19:25:08 cf-templates-k60v3e6ss69n-us-west-2\r\n",
      "2017-10-24 01:18:52 cloudsploitlambda-471850042218\r\n",
      "2017-07-18 14:20:35 erosodc1\r\n",
      "2019-07-17 10:43:40 ga-africa-provisional\r\n",
      "2018-10-31 04:32:27 ga-autobots-elk-471850042218-logsstac-trailbucket-rk21t6aox8cf\r\n",
      "2019-09-03 00:55:08 ga-config-471850042218\r\n",
      "2017-08-31 22:23:35 ga-odc-eros-archive-west\r\n",
      "2019-05-02 17:11:57 ga-odc-eros-kops-west\r\n",
      "2018-07-25 07:15:30 guarddutyslacklambda-471850042218\r\n",
      "2019-10-16 04:41:24 guarddutyteamslambda-471850042218\r\n",
      "2017-05-26 00:29:35 lcmap-washington-state\r\n",
      "2018-02-07 22:28:56 usgs-devs-tfstate\r\n"
     ]
    }
   ],
   "source": [
    "! aws s3 ls"
   ]
  },
  {
   "cell_type": "code",
   "execution_count": 10,
   "metadata": {},
   "outputs": [
    {
     "name": "stdout",
     "output_type": "stream",
     "text": [
      "Traceback (most recent call last):\n",
      "  File \"rasterio/_base.pyx\", line 216, in rasterio._base.DatasetBase.__init__\n",
      "  File \"rasterio/_shim.pyx\", line 64, in rasterio._shim.open_dataset\n",
      "  File \"rasterio/_err.pyx\", line 205, in rasterio._err.exc_wrap_pointer\n",
      "rasterio._err.CPLE_OpenFailedError: '/vsis3/ga-africa-provisional/nigeria-2018-08-21/collection2/level2/standard/oli-tirs/2018/190/056/LC08_L2SP_190056_20180107_20190821_02_T1LC08_L2SP_190056_20180107_20190821_02_T1_SR_B1.TIF' does not exist in the file system, and is not recognized as a supported dataset name.\n",
      "\n",
      "During handling of the above exception, another exception occurred:\n",
      "\n",
      "Traceback (most recent call last):\n",
      "  File \"/usr/local/bin/rio\", line 11, in <module>\n",
      "    load_entry_point('rasterio==1.0.24', 'console_scripts', 'rio')()\n",
      "  File \"/usr/local/lib/python3.6/dist-packages/click/core.py\", line 722, in __call__\n",
      "    return self.main(*args, **kwargs)\n",
      "  File \"/usr/local/lib/python3.6/dist-packages/click/core.py\", line 697, in main\n",
      "    rv = self.invoke(ctx)\n",
      "  File \"/usr/local/lib/python3.6/dist-packages/click/core.py\", line 1066, in invoke\n",
      "    return _process_result(sub_ctx.command.invoke(sub_ctx))\n",
      "  File \"/usr/local/lib/python3.6/dist-packages/click/core.py\", line 895, in invoke\n",
      "    return ctx.invoke(self.callback, **ctx.params)\n",
      "  File \"/usr/local/lib/python3.6/dist-packages/click/core.py\", line 535, in invoke\n",
      "    return callback(*args, **kwargs)\n",
      "  File \"/usr/local/lib/python3.6/dist-packages/click/decorators.py\", line 17, in new_func\n",
      "    return f(get_current_context(), *args, **kwargs)\n",
      "  File \"/usr/local/lib/python3.6/dist-packages/rasterio/rio/info.py\", line 65, in info\n",
      "    with ctx.obj['env'], rasterio.open(input) as src:\n",
      "  File \"/usr/local/lib/python3.6/dist-packages/rasterio/env.py\", line 430, in wrapper\n",
      "    return f(*args, **kwds)\n",
      "  File \"/usr/local/lib/python3.6/dist-packages/rasterio/__init__.py\", line 216, in open\n",
      "    s = DatasetReader(path, driver=driver, sharing=sharing, **kwargs)\n",
      "  File \"rasterio/_base.pyx\", line 218, in rasterio._base.DatasetBase.__init__\n",
      "rasterio.errors.RasterioIOError: '/vsis3/ga-africa-provisional/nigeria-2018-08-21/collection2/level2/standard/oli-tirs/2018/190/056/LC08_L2SP_190056_20180107_20190821_02_T1LC08_L2SP_190056_20180107_20190821_02_T1_SR_B1.TIF' does not exist in the file system, and is not recognized as a supported dataset name.\n"
     ]
    }
   ],
   "source": [
    "! rio info /vsis3/ga-africa-provisional/nigeria-2018-08-21/collection2/level2/standard/oli-tirs/2018/190/056/LC08_L2SP_190056_20180107_20190821_02_T1LC08_L2SP_190056_20180107_20190821_02_T1_SR_B1.TIF\n"
   ]
  },
  {
   "cell_type": "code",
   "execution_count": 11,
   "metadata": {},
   "outputs": [
    {
     "name": "stdout",
     "output_type": "stream",
     "text": [
      "ERROR 4: `/vsis3/ga-africa-provisional/nigeria-2018-08-21/collection2/level2/standard/oli-tirs/2018/190/056/LC08_L2SP_190056_20180107_20190821_02_T1LC08_L2SP_190056_20180107_20190821_02_T1_SR_B1.TIF' does not exist in the file system, and is not recognized as a supported dataset name.\r\n",
      "gdalinfo failed - unable to open '/vsis3/ga-africa-provisional/nigeria-2018-08-21/collection2/level2/standard/oli-tirs/2018/190/056/LC08_L2SP_190056_20180107_20190821_02_T1LC08_L2SP_190056_20180107_20190821_02_T1_SR_B1.TIF'.\r\n"
     ]
    }
   ],
   "source": [
    "! gdalinfo /vsis3/ga-africa-provisional/nigeria-2018-08-21/collection2/level2/standard/oli-tirs/2018/190/056/LC08_L2SP_190056_20180107_20190821_02_T1LC08_L2SP_190056_20180107_20190821_02_T1_SR_B1.TIF"
   ]
  },
  {
   "cell_type": "code",
   "execution_count": 13,
   "metadata": {},
   "outputs": [
    {
     "name": "stdout",
     "output_type": "stream",
     "text": [
      "2019-08-30 00:46:25  116973498 LC08_L2SP_190056_20180107_20190821_02_T1_SR_B1.TIF\r\n"
     ]
    }
   ],
   "source": [
    "! aws s3 ls ga-africa-provisional/nigeria-2018-08-21/collection2/level2/standard/oli-tirs/2018/190/056/LC08_L2SP_190056_20180107_20190821_02_T1/LC08_L2SP_190056_20180107_20190821_02_T1_SR_B1.TIF"
   ]
  },
  {
   "cell_type": "code",
   "execution_count": 15,
   "metadata": {},
   "outputs": [
    {
     "name": "stdout",
     "output_type": "stream",
     "text": [
      "Driver: GTiff/GeoTIFF\r\n",
      "Files: /vsis3/ga-africa-provisional/nigeria-2018-08-21/collection2/level2/standard/oli-tirs/2018/190/056/LC08_L2SP_190056_20180107_20190821_02_T1/LC08_L2SP_190056_20180107_20190821_02_T1_SR_B1.TIF\r\n",
      "Size is 7571, 7721\r\n",
      "Coordinate System is:\r\n",
      "PROJCS[\"WGS 84 / UTM zone 31N\",\r\n",
      "    GEOGCS[\"WGS 84\",\r\n",
      "        DATUM[\"WGS_1984\",\r\n",
      "            SPHEROID[\"WGS 84\",6378137,298.257223563,\r\n",
      "                AUTHORITY[\"EPSG\",\"7030\"]],\r\n",
      "            AUTHORITY[\"EPSG\",\"6326\"]],\r\n",
      "        PRIMEM[\"Greenwich\",0,\r\n",
      "            AUTHORITY[\"EPSG\",\"8901\"]],\r\n",
      "        UNIT[\"degree\",0.0174532925199433,\r\n",
      "            AUTHORITY[\"EPSG\",\"9122\"]],\r\n",
      "        AUTHORITY[\"EPSG\",\"4326\"]],\r\n",
      "    PROJECTION[\"Transverse_Mercator\"],\r\n",
      "    PARAMETER[\"latitude_of_origin\",0],\r\n",
      "    PARAMETER[\"central_meridian\",3],\r\n",
      "    PARAMETER[\"scale_factor\",0.9996],\r\n",
      "    PARAMETER[\"false_easting\",500000],\r\n",
      "    PARAMETER[\"false_northing\",0],\r\n",
      "    UNIT[\"metre\",1,\r\n",
      "        AUTHORITY[\"EPSG\",\"9001\"]],\r\n",
      "    AXIS[\"Easting\",EAST],\r\n",
      "    AXIS[\"Northing\",NORTH],\r\n",
      "    AUTHORITY[\"EPSG\",\"32631\"]]\r\n",
      "Origin = (566985.000000000000000,755115.000000000000000)\r\n",
      "Pixel Size = (30.000000000000000,-30.000000000000000)\r\n",
      "Metadata:\r\n",
      "  AREA_OR_POINT=Point\r\n",
      "Image Structure Metadata:\r\n",
      "  INTERLEAVE=BAND\r\n",
      "Corner Coordinates:\r\n",
      "Upper Left  (  566985.000,  755115.000) (  3d36'22.47\"E,  6d49'51.80\"N)\r\n",
      "Lower Left  (  566985.000,  523485.000) (  3d36'14.45\"E,  4d44' 8.74\"N)\r\n",
      "Upper Right (  794115.000,  755115.000) (  5d39'39.36\"E,  6d49'26.74\"N)\r\n",
      "Lower Right (  794115.000,  523485.000) (  5d39' 4.22\"E,  4d43'51.40\"N)\r\n",
      "Center      (  680550.000,  639300.000) (  4d37'50.09\"E,  5d46'53.07\"N)\r\n",
      "Band 1 Block=7571x1 Type=UInt16, ColorInterp=Gray\r\n"
     ]
    }
   ],
   "source": [
    "! gdalinfo /vsis3/ga-africa-provisional/nigeria-2018-08-21/collection2/level2/standard/oli-tirs/2018/190/056/LC08_L2SP_190056_20180107_20190821_02_T1/LC08_L2SP_190056_20180107_20190821_02_T1_SR_B1.TIF"
   ]
  },
  {
   "cell_type": "code",
   "execution_count": null,
   "metadata": {},
   "outputs": [],
   "source": []
  }
 ],
 "metadata": {
  "kernelspec": {
   "display_name": "Python 3",
   "language": "python",
   "name": "python3"
  },
  "language_info": {
   "codemirror_mode": {
    "name": "ipython",
    "version": 3
   },
   "file_extension": ".py",
   "mimetype": "text/x-python",
   "name": "python",
   "nbconvert_exporter": "python",
   "pygments_lexer": "ipython3",
   "version": "3.6.8"
  }
 },
 "nbformat": 4,
 "nbformat_minor": 2
}
